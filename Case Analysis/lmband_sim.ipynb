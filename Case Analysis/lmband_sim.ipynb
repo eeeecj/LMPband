{
 "cells": [
  {
   "cell_type": "code",
   "execution_count": 11,
   "metadata": {},
   "outputs": [],
   "source": [
    "\n",
    "import os \n",
    "import sys\n",
    "sys.path.append(os.path.join(os.getcwd(),\"..\",\"Algorithm encapsulation\"))\n",
    "import pandas as pd\n",
    "from Simulation import Simulation\n",
    "import numpy as np"
   ]
  },
  {
   "cell_type": "code",
   "execution_count": 12,
   "metadata": {},
   "outputs": [],
   "source": [
    "df=pd.read_csv(\"./a.csv\",encoding=\"utf-8-sig\",index_col=0,header=0)\n",
    "phase = np.loadtxt(\"./data/phase\")\n",
    "ex=np.array([1,0,1,0,1,0,1,1,1,1,1,0])\n",
    "vissim=Simulation(os.path.join(os.getcwd(),\"..\",\"vissim\",\"aa\",\"zhongsan.inp\"),\n",
    "               os.path.join(os.getcwd(),\"..\",\"vissim\",\"aa\",\"vissim.ini\"),\n",
    "               os.path.join(os.getcwd(),\"..\",\"vissim\",\"aa\",\"zhongsan - 副本.inp\"))\n",
    "vissim.set_dwelltime(np.array([df.dw1,df.dw2]))\n",
    "vissim.init_vissim()\n",
    "scs=vissim.scs\n",
    "\n",
    "for sc in scs:\n",
    "    id=int(sc.ID)\n",
    "    vissim.set_offset(sc,df.offset[id-1])\n",
    "    vissim.set_cycle(sc,df.z[id-1])\n",
    "    sgs=sc.SignalGroups\n",
    "    g=phase[id-1]*df.z[id-1]\n",
    "    vissim.Set_SignalGroups(sgs,g)\n",
    "df[\"d\"]=df.distance\n",
    "car_t=np.array([df.d/df.t1,df.d/df.t2])\n",
    "bus_t=np.array([df.d/(df.tb1-ex*df.dw1[:12]),df.d/(df.tb2-ex*df.dw2[:12])])\n",
    "vissim.set_desiredspeed(car_t,bus_t)\n",
    "vissim.set_vehInput(1)\n",
    "vissim.set_period(3600)\n",
    "vissim.start()"
   ]
  },
  {
   "cell_type": "code",
   "execution_count": 14,
   "metadata": {},
   "outputs": [],
   "source": [
    "tz= pd.read_table(os.path.join(os.getcwd(),\"..\",\"vissim\",\"aa\",\"zhongsan - 副本.fzp\"), encoding='gbk')"
   ]
  },
  {
   "cell_type": "code",
   "execution_count": 15,
   "metadata": {},
   "outputs": [],
   "source": [
    "index=np.where(tz[tz.columns[0]].str.startswith(' Link;'))[0]\n",
    "data=tz[index[0]:]\n",
    "data.columns = ['data']\n",
    "data = pd.DataFrame([var.split(';') for var in data['data']])\n",
    "data.columns = data.iloc[0, :].apply(lambda x :x.strip())\n",
    "data = data.drop([0], axis=0)\n",
    "data=data.drop('',axis=1)\n",
    "data=data.reset_index(drop=True)\n",
    "t=data[data.columns].astype(float)\n",
    "data[t.columns]=t"
   ]
  },
  {
   "cell_type": "code",
   "execution_count": 16,
   "metadata": {},
   "outputs": [],
   "source": [
    "links=vissim.vnet.Links\n",
    "linkName=dict()\n",
    "for link in links:\n",
    "    linkName[link.ID]=link.Name\n",
    "data[\"LinkName\"]=data[\"Link\"].apply(lambda x:linkName[int(x)])\n",
    "data=data[-(data[\"LinkName\"]==\"\")]"
   ]
  },
  {
   "cell_type": "code",
   "execution_count": 21,
   "metadata": {},
   "outputs": [],
   "source": [
    "data[\"speed\"]=data[\"v\"]//10*10"
   ]
  },
  {
   "cell_type": "code",
   "execution_count": 55,
   "metadata": {},
   "outputs": [],
   "source": [
    "dgp=data.groupby([\"speed\",\"LinkName\"])[\"TQDelay\"].aggregate(np.mean)"
   ]
  },
  {
   "cell_type": "code",
   "execution_count": 79,
   "metadata": {},
   "outputs": [],
   "source": [
    "traveltime = pd.read_table(os.path.join(os.getcwd(),\"..\",\"vissim\",\"aa\",'zhongsan - 副本.rsz'), encoding='gbk')\n",
    "traveltime = traveltime[9:].reset_index(drop=True)\n",
    "traveltime.columns = ['data']\n",
    "traveltime1 = pd.DataFrame([var.split(';') for var in traveltime.data])\n",
    "traveltime1 = traveltime1.drop(columns=[len(traveltime1.columns)-1], axis=1)[1:]\n",
    "traveltime1.columns = [\"time\"]+[\"traveltime\", \"vehicles\"]*8\n",
    "traveltime1=traveltime1[3:].reset_index(drop=True)\n",
    "traveltime1.replace('\\s+','',regex=True,inplace=True)\n",
    "traveltime1.columns=traveltime1.columns+traveltime1.loc[0,:]\n",
    "traveltime1=traveltime1[2:].reset_index(drop=True)\n",
    "\n"
   ]
  },
  {
   "cell_type": "code",
   "execution_count": 98,
   "metadata": {},
   "outputs": [],
   "source": [
    "delay = pd.read_table(os.path.join(os.getcwd(),\"..\",\"vissim\",\"aa\",'zhongsan - 副本.vlz'), encoding='gbk')\n",
    "delay = delay[9:].reset_index(drop=True)\n",
    "delay.columns = ['data']\n",
    "delay1 = pd.DataFrame([var.split(';') for var in delay.data])\n",
    "delay1 = delay1.drop(columns=[len(delay1.columns)-1], axis=1)[1:]\n",
    "delay1.columns = [\"time\"]+[\"delay\", \"stoped\", \"stops\", \"vehicle\", \"per delay\", \"pers\"]*8\n",
    "delay1.replace('\\s+','',regex=True,inplace=True)\n",
    "delay1.columns=delay1.columns+delay1.loc[4,:]\n",
    "delay1=delay1.drop(11,axis=0)\n",
    "delay1=delay1[4:].reset_index(drop=True)\n"
   ]
  }
 ],
 "metadata": {
  "kernelspec": {
   "display_name": "cplex",
   "language": "python",
   "name": "cplex"
  },
  "language_info": {
   "codemirror_mode": {
    "name": "ipython",
    "version": 3
   },
   "file_extension": ".py",
   "mimetype": "text/x-python",
   "name": "python",
   "nbconvert_exporter": "python",
   "pygments_lexer": "ipython3",
   "version": "3.7.11"
  },
  "orig_nbformat": 4
 },
 "nbformat": 4,
 "nbformat_minor": 2
}
