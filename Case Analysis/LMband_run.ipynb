{
 "cells": [
  {
   "cell_type": "code",
   "execution_count": null,
   "metadata": {},
   "outputs": [],
   "source": [
    "import numpy as np\n",
    "import sys\n",
    "import os\n",
    "sys.path.append(os.path.join(os.getcwd(),\"../算法封装\"))\n",
    "sys.path.append(os.path.join(os.getcwd(),\"..\"))\n",
    "print(sys.path)\n",
    "from LMband import LMband\n",
    "import pandas as pd\n",
    "from ga_platoon import max_dt"
   ]
  },
  {
   "cell_type": "code",
   "execution_count": null,
   "metadata": {},
   "outputs": [],
   "source": [
    "def get_rf(d,p):\n",
    "    tmp=[]\n",
    "    for i,a in enumerate(p):\n",
    "        idx=np.where(a!=0)[0]\n",
    "        a=a&0\n",
    "        if len(idx)>0:\n",
    "            a[:idx[0]]=1\n",
    "        tmp.append((d[i]*a).sum())\n",
    "    return tmp"
   ]
  },
  {
   "cell_type": "code",
   "execution_count": null,
   "metadata": {},
   "outputs": [],
   "source": [
    "phase = np.loadtxt(\"./data/phase\")\n",
    "cir=phase[0].sum()\n",
    "phase=phase/cir\n",
    "vol = np.loadtxt(\"./data/volume\")\n",
    "qv = np.loadtxt(\"./data/path_vol\")\n",
    "phase_get = np.load(\"./data/phase_get.npy\")\n",
    "d = np.loadtxt(\"./data/distance\")\n",
    "straight_get = np.load(\"./data/straight_get.npy\")\n",
    "ison = np.array([0, 0, 0, 1, 1, 1])\n",
    "px = np.array([[0, 0, 0, 0, 0, 0, 0, 0, 0, 0, 0, 0, 0],\n",
    "               [0, 0, 0, 0, 0, 0, 0, 0, 0, 0, 0, 0, 0]])\n",
    "pxb = np.array([[0, 0, 0, 0, 0, 0, 0, 0, 0, 0, 0, 0, 0],\n",
    "               [0, 0, 0, 0, 0, 0, 0, 0, 0, 0, 0, 0, 0]])\n",
    "qb=[120,120]\n",
    "lower, upper = 4, 12\n",
    "linspace = np.arange(lower, upper, 1)\n",
    "lin_num = len(linspace)\n",
    "\n",
    "# 南北直行方向绿灯时间\n",
    "sg=np.array([(straight_get[i]*phase).sum(axis=1) for i in range(len(straight_get))])\n",
    "rho = vol[0] / vol[1]\n",
    "num = len(vol[0])\n",
    "numr = len(qv)\n",
    "nump = len(phase_get)\n",
    "M = 1e6\n",
    "nx = 0.00000001\n",
    "be = 8\n",
    "speedScope = np.array([lower, upper])\n",
    "speedVar = np.array([-2, 2])\n",
    "\n",
    "g=np.array([(phase_get[i]*phase).sum(axis=1) for i in range(numr) ])\n",
    "r=1-g\n",
    "rf=np.array([get_rf(phase,phase_get[i]) for i in range(numr)])\n",
    "\n",
    "ex=[1,0,1,0,1,0,1,1,1,1,1,0]\n",
    "dwt=15\n",
    "qb_x=np.ones_like(sg)*20\n",
    "cap=np.ones_like(sg,dtype=int)*3\n",
    "\n",
    "spd_on=pd.read_csv(os.path.join(os.getcwd(),\"..\",\"速度爬取\",\"上行速度数据.csv\"),index_col=0)\n",
    "spd_in=pd.read_csv(os.path.join(os.getcwd(),\"..\",\"速度爬取\",\"下行速度数据.csv\"),index_col=0)"
   ]
  },
  {
   "cell_type": "code",
   "execution_count": null,
   "metadata": {},
   "outputs": [],
   "source": [
    "lmb=LMband(phase, [80,180], vol, qv, phase_get, d, straight_get, ison, px, pxb, qb,qb_x,cap, lower, upper, \n",
    "           linspace, be, speedVar[0], speedVar[1],ex, dwt,lower,upper,speedVar[0], speedVar[1],spd_on,spd_in)\n",
    "lmb._M1_solve()"
   ]
  },
  {
   "cell_type": "code",
   "execution_count": null,
   "metadata": {},
   "outputs": [],
   "source": [
    "lmb._M2_solve()"
   ]
  },
  {
   "cell_type": "code",
   "execution_count": null,
   "metadata": {},
   "outputs": [],
   "source": [
    "lmb.get_dataframe()"
   ]
  },
  {
   "cell_type": "code",
   "execution_count": null,
   "metadata": {},
   "outputs": [],
   "source": [
    "colors=[\n",
    "            {\"color\":\"gray\" , \"hatch\": None, \"fill\": True},\n",
    "            {\"color\":\"gray\", \"hatch\":\"||||\" , \"fill\": True},\n",
    "            {\"color\": \"gray\", \"hatch\":\"////\" , \"fill\": True},\n",
    "            {\"color\":\"white\", \"hatch\": \"****\", \"fill\": False},\n",
    "            {\"color\": \"white\", \"hatch\": None, \"fill\": False},\n",
    "            {\"color\": \"white\", \"hatch\": \"////\", \"fill\": False},\n",
    "            {\"color\": \"white\", \"hatch\": \"||||\", \"fill\": False},\n",
    "            {\"color\": \"white\", \"hatch\": \"\\\\\\\\\\\\\\\\\", \"fill\": False},\n",
    "            {\"color\": \"white\", \"hatch\": \"xxxx\", \"fill\": False},\n",
    "            {\"color\": \"white\", \"hatch\": \"....\", \"fill\": False},\n",
    "        ]\n",
    "linestyles=[\n",
    "    {\"linestyle\":\"-\" },\n",
    "    {\"linestyle\":(5,(10,3))},\n",
    "    {\"linestyle\":(0, (5, 3)) },\n",
    "    {\"linestyle\":\":\" },\n",
    "    {\"linestyle\":(0, (3, 1, 1, 1)) },\n",
    "    {\"linestyle\": (0, (5, 10)) },\n",
    "]\n",
    "legends=[\"1->15\", \"1->6\", \"8->15\", \"15->2\", \"14->9\", \"7->1\"]\n",
    "lmb.draw_car_bound(\"./时距图\",colors,legends,2,linestyles)"
   ]
  },
  {
   "cell_type": "code",
   "execution_count": null,
   "metadata": {},
   "outputs": [],
   "source": [
    "colors=[\n",
    "            {\"color\":\"gray\" , \"hatch\": None, \"fill\": True},\n",
    "            {\"color\":\"gray\", \"hatch\":\"||||\" , \"fill\": True},\n",
    "            {\"color\": \"gray\", \"hatch\":\"////\" , \"fill\": True},\n",
    "            {\"color\":\"white\", \"hatch\": None, \"fill\": False},\n",
    "            {\"color\": \"white\", \"hatch\": \"****\", \"fill\": False},\n",
    "            {\"color\": \"white\", \"hatch\": \"////\", \"fill\": False},\n",
    "            {\"color\": \"white\", \"hatch\": \"||||\", \"fill\": False},\n",
    "            {\"color\": \"white\", \"hatch\": \"\\\\\\\\\\\\\\\\\", \"fill\": False},\n",
    "            {\"color\": \"white\", \"hatch\": \"xxxx\", \"fill\": False},\n",
    "            {\"color\": \"white\", \"hatch\": \"....\", \"fill\": False},\n",
    "        ]\n",
    "lmb.draw_bus_bound(\"./公交时距图\",colors)"
   ]
  },
  {
   "cell_type": "code",
   "execution_count": null,
   "metadata": {},
   "outputs": [],
   "source": [
    "a=lmb.get_draw_dataframe()\n"
   ]
  },
  {
   "cell_type": "code",
   "execution_count": null,
   "metadata": {},
   "outputs": [],
   "source": [
    "(a[[\"bb\"+str(i+1) for i in range(2)]+[\"dw1\",\"dw2\"]].round(0)).mean(axis=0)"
   ]
  },
  {
   "cell_type": "code",
   "execution_count": null,
   "metadata": {},
   "outputs": [],
   "source": [
    "a[[\"b\"+str(i+1) for i in range(6)]].round(0)"
   ]
  },
  {
   "cell_type": "code",
   "execution_count": null,
   "metadata": {},
   "outputs": [],
   "source": [
    "lmb.d"
   ]
  },
  {
   "cell_type": "code",
   "execution_count": null,
   "metadata": {},
   "outputs": [],
   "source": [
    "a.p"
   ]
  },
  {
   "cell_type": "code",
   "execution_count": null,
   "metadata": {},
   "outputs": [],
   "source": [
    "import math\n",
    "import numpy as np\n",
    "import matplotlib.pyplot as plt\n",
    "plt.rcParams['font.family']=\"SimSun\"\n",
    "fig = plt.figure(figsize=(4,3), dpi=300)\n",
    "u = 9   # 均值μ\n",
    "sig = math.sqrt(2)  # 标准差δ\n",
    "x = np.linspace(u - 3*sig, u + 3*sig, 50)   # 定义域\n",
    "y = np.exp(-(x - u) ** 2 / (2 * sig ** 2)) / (math.sqrt(2*math.pi)*sig) # 定义曲线函数\n",
    "plt.plot(x, y, \"black\", linewidth=2)    # 加载曲线\n",
    "l1=plt.fill_between(x, y, 0,where=((x>=u-2*sig)&(x<=u-sig/2)), alpha=0.2)\n",
    "l2=plt.fill_between(x, y, 0,where=((x<=u+2*sig)&(x>=u+sig/2)), alpha=0.2)\n",
    "# plt.grid(True)  # 网格线\n",
    "plt.legend([l1,l2],[\"低速带宽\",\"高速带宽\"])\n",
    "plt.show()  # 显示\n",
    "fig.savefig(\"./正态分布\")"
   ]
  },
  {
   "cell_type": "code",
   "execution_count": null,
   "metadata": {},
   "outputs": [],
   "source": []
  }
 ],
 "metadata": {
  "kernelspec": {
   "display_name": "cplex",
   "language": "python",
   "name": "cplex"
  },
  "language_info": {
   "codemirror_mode": {
    "name": "ipython",
    "version": 3
   },
   "file_extension": ".py",
   "mimetype": "text/x-python",
   "name": "python",
   "nbconvert_exporter": "python",
   "pygments_lexer": "ipython3",
   "version": "3.7.11"
  },
  "orig_nbformat": 4
 },
 "nbformat": 4,
 "nbformat_minor": 2
}
