{
 "cells": [
  {
   "cell_type": "code",
   "execution_count": 1,
   "metadata": {},
   "outputs": [],
   "source": [
    "import pandas as pd\n",
    "import numpy as np\n",
    "import sys\n",
    "import os\n",
    "sys.path.append(os.path.join(os.getcwd(),\"..\",\"..\",\"Algorithm encapsulation\"))\n",
    "from SimAnalysis import SimAnalysis\n",
    "from LMband import LMband\n",
    "from Multiband import Multiband\n",
    "from MXband import MXband\n",
    "from MPbandTool import MPbandTool\n",
    "from MPband import MPband\n"
   ]
  },
  {
   "cell_type": "code",
   "execution_count": 2,
   "metadata": {},
   "outputs": [],
   "source": [
    "def get_rf(d,p):\n",
    "    tmp=[]\n",
    "    for i,a in enumerate(p):\n",
    "        idx=np.where(a!=0)[0]\n",
    "        a=a&0\n",
    "        if len(idx)>0:\n",
    "            a[:idx[0]]=1\n",
    "        tmp.append((d[i]*a).sum())\n",
    "    return tmp"
   ]
  },
  {
   "cell_type": "code",
   "execution_count": 3,
   "metadata": {},
   "outputs": [],
   "source": [
    "phase = np.loadtxt(\"../data/phase\")\n",
    "cir=phase[0].sum()\n",
    "phase=phase/cir\n",
    "vol = np.loadtxt(\"../data/volume\")\n",
    "qv = np.loadtxt(\"../data/path_vol\")\n",
    "phase_get = np.load(\"../data/phase_get.npy\")\n",
    "d = np.loadtxt(\"../data/distance\")\n",
    "straight_get = np.load(\"../data/straight_get.npy\")\n",
    "ison = np.array([0, 0, 0, 1, 1, 1])\n",
    "px = np.array([[0, 0, 0, 0, 0, 0, 0, 0, 0, 0, 0, 0, 0],\n",
    "               [0, 0, 0, 0, 0, 0, 0, 0, 0, 0, 0, 0, 0]])\n",
    "pxb = np.array([[0, 0, 0, 0, 0, 0, 0, 0, 0, 0, 0, 0, 0],\n",
    "               [0, 0, 0, 0, 0, 0, 0, 0, 0, 0, 0, 0, 0]])\n",
    "qb=[120,120]\n",
    "lower, upper = 8, 14\n",
    "linspace = np.arange(lower, upper, 1)\n",
    "lin_num = len(linspace)\n",
    "\n",
    "# 南北直行方向绿灯时间\n",
    "sg=np.array([(straight_get[i]*phase).sum(axis=1) for i in range(len(straight_get))])\n",
    "rho = vol[0] / vol[1]\n",
    "num = len(vol[0])\n",
    "numr = len(qv)\n",
    "nump = len(phase_get)\n",
    "M = 1e6\n",
    "nx = 0.00000001\n",
    "be = 8\n",
    "speedScope = np.array([lower, upper])\n",
    "speedVar = np.array([-2, 2])\n",
    "\n",
    "g=np.array([(phase_get[i]*phase).sum(axis=1) for i in range(numr) ])\n",
    "r=1-g\n",
    "rf=np.array([get_rf(phase,phase_get[i]) for i in range(numr)])\n",
    "\n",
    "ex=[1,0,1,0,1,0,1,1,1,1,1,0]\n",
    "dwt=15\n",
    "qb_x=np.ones_like(sg)*20\n",
    "cap=np.ones_like(sg,dtype=int)*3\n",
    "\n",
    "spd_on=pd.read_csv(os.path.join(os.getcwd(),\"..\",\"..\",\"speed analysis\",\"上行速度数据.csv\"),index_col=0)\n",
    "spd_in=pd.read_csv(os.path.join(os.getcwd(),\"..\",\"..\",\"speed analysis\",\"下行速度数据.csv\"),index_col=0)\n",
    "p=[0,0,0,0,1,0,0,0,1,0,1,0,0]"
   ]
  },
  {
   "cell_type": "code",
   "execution_count": 4,
   "metadata": {},
   "outputs": [],
   "source": [
    "def sim_start(df,name,sta):\n",
    "    sim=SimAnalysis(df,phase,ex,os.path.join(os.getcwd(),\"..\",\"..\",\"vissim\",\"aa\",\"zhongsan.inp\"),\n",
    "                os.path.join(os.getcwd(),\"..\",\"..\",\"vissim\",\"aa\",\"vissim.ini\"),\n",
    "                os.path.join(os.getcwd(),\"..\",\"..\",\"vissim\",\"aa\",\"zhongsan - 副本.inp\"))\n",
    "    sim.set_saturation(sta)\n",
    "    sim.start()\n",
    "    delayx=sim.analysis_delay(os.path.join(os.getcwd(),\"..\",\"..\",\"vissim\",\"aa\",'zhongsan - 副本.vlz'))\n",
    "    tvltx=sim.analysis_traveltime(os.path.join(os.getcwd(),\"..\",\"..\",\"vissim\",\"aa\",'zhongsan - 副本.rsz'))\n",
    "    delayx.to_csv(\"./staturation/delay_{}.csv\".format(name),encoding=\"utf-8-sig\")\n",
    "    tvltx.to_csv(\"./staturation/traveltime_{}.csv\".format(name),encoding=\"utf-8-sig\")"
   ]
  },
  {
   "cell_type": "code",
   "execution_count": 5,
   "metadata": {},
   "outputs": [],
   "source": [
    "def LMband_sensitivity(cycle,sta,dwt,tpy,idx):\n",
    "    lmb=LMband(phase, [cycle[0],cycle[1]], vol*sta, qv*sta, phase_get, d, straight_get, ison, px, pxb, qb,qb_x,cap, lower, upper, \n",
    "           linspace, be, speedVar[0], speedVar[1],ex, dwt,lower,upper,speedVar[0], speedVar[1],spd_on,spd_in)\n",
    "    lmb.set_M2_time_limit(60*15)\n",
    "    lmb.solve()\n",
    "    df=lmb.get_dataframe()\n",
    "    sim_start(df,\"{}_{}_{}\".format(\"LMB\",tpy,idx),sta)"
   ]
  },
  {
   "cell_type": "code",
   "execution_count": 6,
   "metadata": {},
   "outputs": [],
   "source": [
    "def Multiband_sensitivity(cycle,sta,dwt,tpy,idx):\n",
    "    mb=Multiband(phase,[cycle[0],cycle[1]],straight_get,p,d,lower,upper,speedVar[0], speedVar[1],vol,px)\n",
    "    mb._solve()\n",
    "    a=mb.get_data\n",
    "    mpb=MPbandTool(phase, [cycle[0],cycle[1]], vol*sta, qv*sta, phase_get, d, straight_get, ison, px, pxb, qb, lower, upper, \n",
    "            be, speedVar[0], speedVar[1],ex, dwt,lower,upper,speedVar[0], speedVar[1],p,a.offset/a.z,\n",
    "            1/a.z,np.array([a.t1/a.z,a.t2/a.z]))\n",
    "    mpb._solve()\n",
    "    df=mpb.get_dataframe()\n",
    "    df[\"dw1\"]=np.ones_like(df.z)*dwt\n",
    "    df[\"dw2\"]=np.ones_like(df.z)*dwt\n",
    "    sim_start(df,\"{}_{}_{}\".format(\"MB\",tpy,idx),sta)\n",
    "    "
   ]
  },
  {
   "cell_type": "code",
   "execution_count": 7,
   "metadata": {},
   "outputs": [],
   "source": [
    "def MXband_sensitivity(cycle,sta,dwt,tpy,idx):\n",
    "    mb=MXband(phase,[cycle[0],cycle[1]],straight_get,d,lower,upper,speedVar[0], speedVar[1],vol,px)\n",
    "    mb._solve()\n",
    "    a=mb.get_dataframe()\n",
    "    mpb=MPbandTool(phase, [80,180], vol*sta, qv*sta, phase_get, d, straight_get, ison, px, pxb, qb, lower, upper, \n",
    "                be, speedVar[0], speedVar[1],ex, dwt,lower,upper,speedVar[0], speedVar[1],a.p,a.offset/a.z,\n",
    "                1/a.z,np.array([a.t1/a.z,a.t2/a.z]))\n",
    "    mpb._solve()\n",
    "    df=mpb.get_dataframe()\n",
    "    df[\"dw1\"]=np.ones_like(df.z)*dwt\n",
    "    df[\"dw2\"]=np.ones_like(df.z)*dwt\n",
    "    sim_start(df,\"{}_{}_{}\".format(\"MXB\",tpy,idx),sta)"
   ]
  },
  {
   "cell_type": "code",
   "execution_count": 8,
   "metadata": {},
   "outputs": [],
   "source": [
    "def MPband_sensitivity(cycle,sta,dwt,tpy,idx):\n",
    "    mpb=MPband(phase, [cycle[0],cycle[1]], vol*sta, qv*sta, phase_get, d, straight_get, ison, px, pxb, qb, lower, upper, \n",
    "            be, speedVar[0], speedVar[1],ex, dwt,lower,upper,speedVar[0], speedVar[1],p)\n",
    "    mpb._solve()\n",
    "    df=mpb.get_dataframe()\n",
    "    sim_start(df,\"{}_{}_{}\".format(\"MPB\",tpy,idx),sta)"
   ]
  },
  {
   "cell_type": "code",
   "execution_count": 9,
   "metadata": {},
   "outputs": [],
   "source": [
    "def cycle_analysis():\n",
    "    #周期灵敏度分析\n",
    "    for i in [80, 100, 120, 140,160, 180]:\n",
    "        LMband_sensitivity([i,i],1,15,\"cycle\",i)\n",
    "        Multiband_sensitivity([i,i],1,15,\"cycle\",i)\n",
    "        MXband_sensitivity([i,i],1,15,\"cycle\",i)\n",
    "        MPband_sensitivity([i,i],1,15,\"cycle\",i)\n",
    "cycle_analysis()"
   ]
  },
  {
   "cell_type": "code",
   "execution_count": 10,
   "metadata": {},
   "outputs": [],
   "source": [
    "def dwelltime_analysis():\n",
    "    for i in [10, 12, 14, 16, 18, 20]:\n",
    "        LMband_sensitivity([120,120],1,i,\"dwt\",i)\n",
    "        Multiband_sensitivity([120,120],1,i,\"dwt\",i)\n",
    "        MXband_sensitivity([120,120],1,i,\"dwt\",i)\n",
    "        MPband_sensitivity([120,120],1,i,\"dwt\",i)\n",
    "dwelltime_analysis()"
   ]
  },
  {
   "cell_type": "code",
   "execution_count": null,
   "metadata": {},
   "outputs": [],
   "source": [
    "def staturation_analysis():\n",
    "    for i in [0.4,0.6,0.8, 1, 1.2, 1.4,1.6]:\n",
    "        LMband_sensitivity([120,120],i,15,\"sta\",i)\n",
    "        Multiband_sensitivity([120,120],i,15,\"sta\",i)\n",
    "        MXband_sensitivity([120,120],i,15,\"sta\",i)\n",
    "        MPband_sensitivity([120,120],i,15,\"sta\",i)\n",
    "staturation_analysis()"
   ]
  }
 ],
 "metadata": {
  "kernelspec": {
   "display_name": "cplex",
   "language": "python",
   "name": "cplex"
  },
  "language_info": {
   "codemirror_mode": {
    "name": "ipython",
    "version": 3
   },
   "file_extension": ".py",
   "mimetype": "text/x-python",
   "name": "python",
   "nbconvert_exporter": "python",
   "pygments_lexer": "ipython3",
   "version": "3.7.11"
  },
  "orig_nbformat": 4
 },
 "nbformat": 4,
 "nbformat_minor": 2
}
