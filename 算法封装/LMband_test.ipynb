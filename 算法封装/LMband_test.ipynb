{
 "cells": [
  {
   "cell_type": "code",
   "execution_count": 1,
   "metadata": {},
   "outputs": [],
   "source": [
    "from  LMband import LMband\n",
    "import numpy as np"
   ]
  },
  {
   "cell_type": "code",
   "execution_count": 2,
   "metadata": {},
   "outputs": [],
   "source": [
    "def get_rf(d,p):\n",
    "    tmp=[]\n",
    "    for i,a in enumerate(p):\n",
    "        idx=np.where(a!=0)[0]\n",
    "        a=a&0\n",
    "        if len(idx)>0:\n",
    "            a[:idx[0]]=1\n",
    "        tmp.append((d[i]*a).sum())\n",
    "    return tmp"
   ]
  },
  {
   "cell_type": "code",
   "execution_count": 3,
   "metadata": {},
   "outputs": [],
   "source": [
    "phase = np.loadtxt(\"../phase\")\n",
    "cir=phase[0].sum()\n",
    "phase=phase/cir\n",
    "vol = np.loadtxt(\"../volume\")\n",
    "qv = np.loadtxt(\"../path_vol\")\n",
    "phase_get = np.load(\"../phase_get.npy\")\n",
    "d = np.loadtxt(\"../distance\")\n",
    "# dr = np.loadtxt(\"dr\")\n",
    "# dr=dr/cir\n",
    "straight_get = np.load(\"../straight_get.npy\")\n",
    "\n",
    "srl_get=np.load(\"../srl_get.npy\")\n",
    "ison = np.array([0, 0, 0, 1, 1, 1])\n",
    "px = np.array([[0, 0, 0, 0, 0, 0, 0, 0, 0, 0, 0, 0, 0, 0, 0],\n",
    "               [0, 0, 0, 0, 0, 0, 0, 0, 0, 0, 0, 0, 0, 0, 0]])\n",
    "pxb = np.array([[0, 0, 0, 0, 0, 0, 0, 0, 0, 0, 0, 0, 0, 0, 0],\n",
    "               [0, 0, 0, 0, 0, 0, 0, 0, 0, 0, 0, 0, 0, 0, 0]])\n",
    "qb=[120,120]\n",
    "lower, upper = 8, 12\n",
    "linspace = np.arange(lower, upper, 1)\n",
    "lin_num = len(linspace)\n",
    "\n",
    "# 南北直行方向绿灯时间\n",
    "sg=np.array([(straight_get[i]*phase).sum(axis=1) for i in range(len(straight_get))])\n",
    "srf=np.array([get_rf(phase,straight_get[i]) for i in range(len(srl_get))])\n",
    "rho = vol[0] / vol[1]\n",
    "num = len(vol[0])\n",
    "numr = len(qv)\n",
    "nump = len(phase_get)\n",
    "M = 1e6\n",
    "nx = 0.00000001\n",
    "be = 8\n",
    "speedScope = np.array([lower, upper])\n",
    "speedVar = np.array([-2, 2])\n",
    "\n",
    "g=np.array([(phase_get[i]*phase).sum(axis=1) for i in range(numr) ])\n",
    "r=1-g\n",
    "rf=np.array([get_rf(phase,phase_get[i]) for i in range(numr)])\n",
    "\n",
    "ex=[0,1,1,0,1,0,1,1,0,1,1,0,1,1]\n",
    "dwt=15"
   ]
  },
  {
   "cell_type": "code",
   "execution_count": 4,
   "metadata": {},
   "outputs": [
    {
     "name": "stdout",
     "output_type": "stream",
     "text": [
      "Version identifier: 12.10.0.0 | 2019-11-26 | 843d4de2ae\n",
      "CPXPARAM_Read_DataCheck                          1\n",
      "CPXPARAM_RandomSeed                              201903125\n",
      "\n",
      "Multi-objective solve log . . .\n",
      "\n",
      "Index  Priority  Blend          Objective      Nodes  Time (sec.)  DetTime (ticks)\n",
      "\n",
      "Performing restart 1\n",
      "    1         0      3   1.9707224364e+04     382719        30.33         17214.99\n",
      "status  = multi-objective optimal\n",
      "time    = 30.343 s.\n",
      "problem = MILP\n",
      "gap     = 1.77735e+73%\n",
      "\n",
      "object value: 5626\n"
     ]
    }
   ],
   "source": [
    "lmb=LMband(phase, [80,180], vol, qv, phase_get, d, straight_get, srl_get, ison, px, pxb, qb, lower, upper, \n",
    "           linspace, be, speedVar[0], speedVar[1],ex, dwt,lower,upper,speedVar[0], speedVar[1],9,2)\n",
    "lmb._M1_solve()"
   ]
  },
  {
   "cell_type": "code",
   "execution_count": 5,
   "metadata": {},
   "outputs": [
    {
     "name": "stdout",
     "output_type": "stream",
     "text": [
      "conflict(s): 0\n",
      "Version identifier: 12.10.0.0 | 2019-11-26 | 843d4de2ae\n",
      "CPXPARAM_Read_DataCheck                          1\n",
      "CPXPARAM_RandomSeed                              201903125\n",
      "\n",
      "Multi-objective solve log . . .\n",
      "\n",
      "Index  Priority  Blend          Objective      Nodes  Time (sec.)  DetTime (ticks)\n",
      "\n",
      "Performing restart 1\n",
      "    1         2      2   2.6837224280e+04       5414         1.36           926.55\n",
      "\n",
      "Performing restart 1\n",
      "\n",
      "Performing restart 2\n",
      "    2         1      1   4.2420337667e+02     228601        27.03         20205.32\n",
      "status  = multi-objective optimal\n",
      "time    = 28.391 s.\n",
      "problem = MILP\n",
      "gap     = 1.77735e+73%\n",
      "\n",
      "object value 5626\n"
     ]
    }
   ],
   "source": [
    "lmb._M2_solve()"
   ]
  }
 ],
 "metadata": {
  "kernelspec": {
   "display_name": "cplex",
   "language": "python",
   "name": "cplex"
  },
  "language_info": {
   "codemirror_mode": {
    "name": "ipython",
    "version": 3
   },
   "file_extension": ".py",
   "mimetype": "text/x-python",
   "name": "python",
   "nbconvert_exporter": "python",
   "pygments_lexer": "ipython3",
   "version": "3.7.11"
  },
  "orig_nbformat": 4
 },
 "nbformat": 4,
 "nbformat_minor": 2
}
