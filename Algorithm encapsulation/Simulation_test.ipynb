{
 "cells": [
  {
   "cell_type": "code",
   "execution_count": 1,
   "metadata": {},
   "outputs": [],
   "source": [
    "import numpy as np\n",
    "from Simulation import Simulation\n",
    "import os"
   ]
  },
  {
   "cell_type": "code",
   "execution_count": 2,
   "metadata": {},
   "outputs": [],
   "source": [
    "phase = np.loadtxt(\"../Case Analysis/data/phase\")\n"
   ]
  },
  {
   "cell_type": "code",
   "execution_count": 3,
   "metadata": {},
   "outputs": [],
   "source": [
    "z=np.ones_like(phase)*100\n",
    "phase=phase*z"
   ]
  },
  {
   "cell_type": "code",
   "execution_count": 4,
   "metadata": {},
   "outputs": [],
   "source": [
    "sim=Simulation(os.path.join(os.getcwd(),\"..\",\"vissim\",\"aa\",\"zhongsan.inp\"),\n",
    "               os.path.join(os.getcwd(),\"..\",\"vissim\",\"aa\",\"vissim.ini\"))\n",
    "# sim=Simulation(\"F:\\\\workspace\\\\jupyter\\\\论文\\\\graduation thesis\\\\vissim\\\\aa\\\\zhongsan.inp\")"
   ]
  },
  {
   "cell_type": "code",
   "execution_count": 5,
   "metadata": {},
   "outputs": [
    {
     "name": "stdout",
     "output_type": "stream",
     "text": [
      "[  0.   28.2  28.2  61.2  61.2  61.2  85.9  85.9 100.  100. ]\n",
      "[  0.   42.6  42.6  79.4  79.4  79.4  79.4 100.  100.  100. ]\n",
      "[ 0.  18.7 18.7 38.7 47.7 47.7 73.7 73.7 99.7 99.7]\n",
      "[  0.    0.   27.7  27.7  27.7  53.1  78.5  78.5 100.  100. ]\n",
      "[  0.    0.   25.5  25.5  25.5  39.3  39.3  88.3  88.3 100. ]\n",
      "[  0.   0.  65.  65.  65.  65.  65. 100. 100. 100.]\n",
      "[  0.    0.   24.3  24.3  24.3  45.8  59.7  85.4 100.  100. ]\n",
      "[  0.    0.   16.5  16.5  16.5  41.5  68.1  68.1 100.  100. ]\n",
      "[  0.    0.   29.8  29.8  29.8  63.8  63.8 100.  100.  100. ]\n",
      "[  0.    0.   37.9  37.9  37.9  71.6 100.  100.  100.  100. ]\n",
      "[ 0.   0.  49.  49.  49.  72.1 85.3 85.3 99.6 99.6]\n",
      "[  0.    0.   37.9  37.9  37.9  71.6  71.6  71.6 100.  100. ]\n",
      "[ 0.   0.  30.  30.  30.  48.6 71.6 71.6 99.9 99.9]\n"
     ]
    }
   ],
   "source": [
    "for i in range(sim.scs.Count):\n",
    "    scs=sim.scs.GetSignalControllerByNumber(i+1).SignalGroups\n",
    "    sim.Set_SignalGroups(scs,phase[i])"
   ]
  },
  {
   "cell_type": "code",
   "execution_count": 22,
   "metadata": {},
   "outputs": [
    {
     "name": "stdout",
     "output_type": "stream",
     "text": [
      "TIMES 24   MEAN  0.0  STANDARD_DEVIATION  0.0\n",
      "TIMES 23   MEAN 15.0  STANDARD_DEVIATION  0.0\n",
      "TIMES 22   MEAN 30.0  STANDARD_DEVIATION  0.0\n",
      "TIMES 21   MEAN 15.0  STANDARD_DEVIATION  0.0\n",
      "TIMES 20   MEAN 30.0  STANDARD_DEVIATION  0.0\n",
      "TIMES 19   MEAN 15.0  STANDARD_DEVIATION  0.0\n",
      "TIMES 18   MEAN  0.0  STANDARD_DEVIATION  0.0\n",
      "TIMES 17   MEAN 15.0  STANDARD_DEVIATION  0.0\n",
      "TIMES 16   MEAN  0.0  STANDARD_DEVIATION  0.0\n",
      "TIMES 15   MEAN 15.0  STANDARD_DEVIATION  0.0\n",
      "TIMES 14   MEAN  0.0  STANDARD_DEVIATION  0.0\n",
      "TIMES 13   MEAN 15.0  STANDARD_DEVIATION  0.0\n",
      "TIMES 12   MEAN  0.0  STANDARD_DEVIATION  0.0\n",
      "TIMES 11   MEAN 15.0  STANDARD_DEVIATION  0.0\n",
      "TIMES 10   MEAN 30.0  STANDARD_DEVIATION  0.0\n",
      "TIMES  9   MEAN 15.0  STANDARD_DEVIATION  0.0\n",
      "TIMES  8   MEAN 30.0  STANDARD_DEVIATION  0.0\n",
      "TIMES  7   MEAN 15.0  STANDARD_DEVIATION  0.0\n",
      "TIMES  6   MEAN  0.0  STANDARD_DEVIATION  0.0\n",
      "TIMES  5   MEAN 15.0  STANDARD_DEVIATION  0.0\n",
      "TIMES  4   MEAN  0.0  STANDARD_DEVIATION  0.0\n",
      "TIMES  3   MEAN 15.0  STANDARD_DEVIATION  0.0\n",
      "TIMES  2   MEAN  0.0  STANDARD_DEVIATION  0.0\n",
      "TIMES  1   MEAN 15.0  STANDARD_DEVIATION  0.0\n"
     ]
    }
   ],
   "source": [
    "import re\n",
    "with open(os.path.join(os.getcwd(),\"..\",\"vissim\",\"aa\",\"zhongsan - 副本.inp\")) as f:\n",
    "    lines=f.read()\n",
    "    fsch=re.finditer(r'TIMES +(\\d+) *MEAN +(\\d+.\\d) +STANDARD_DEVIATION +(\\d+.\\d)',lines)\n",
    "    for i in fsch:\n",
    "        print(i.group(0))\n"
   ]
  },
  {
   "cell_type": "code",
   "execution_count": 20,
   "metadata": {},
   "outputs": [
    {
     "data": {
      "text/plain": [
       "' 1.2'"
      ]
     },
     "execution_count": 20,
     "metadata": {},
     "output_type": "execute_result"
    }
   ],
   "source": [
    "(\"%2.1f\"%(1.2)).rjust(4,\" \")"
   ]
  },
  {
   "cell_type": "code",
   "execution_count": null,
   "metadata": {},
   "outputs": [],
   "source": []
  }
 ],
 "metadata": {
  "kernelspec": {
   "display_name": "cplex",
   "language": "python",
   "name": "cplex"
  },
  "language_info": {
   "codemirror_mode": {
    "name": "ipython",
    "version": 3
   },
   "file_extension": ".py",
   "mimetype": "text/x-python",
   "name": "python",
   "nbconvert_exporter": "python",
   "pygments_lexer": "ipython3",
   "version": "3.7.11"
  },
  "orig_nbformat": 4
 },
 "nbformat": 4,
 "nbformat_minor": 2
}
