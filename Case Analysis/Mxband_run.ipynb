{
 "cells": [
  {
   "cell_type": "code",
   "execution_count": 1,
   "metadata": {},
   "outputs": [
    {
     "name": "stdout",
     "output_type": "stream",
     "text": [
      "['c:\\\\Users\\\\Administrator\\\\Desktop\\\\速度爬取\\\\Case Analysis', 'd:\\\\Anaoconda\\\\envs\\\\cplex\\\\python37.zip', 'd:\\\\Anaoconda\\\\envs\\\\cplex\\\\DLLs', 'd:\\\\Anaoconda\\\\envs\\\\cplex\\\\lib', 'd:\\\\Anaoconda\\\\envs\\\\cplex', '', 'C:\\\\Users\\\\Administrator\\\\AppData\\\\Roaming\\\\Python\\\\Python37\\\\site-packages', 'd:\\\\Anaoconda\\\\envs\\\\cplex\\\\lib\\\\site-packages', 'd:\\\\Anaoconda\\\\envs\\\\cplex\\\\lib\\\\site-packages\\\\requests-2.22.0-py3.7.egg', 'd:\\\\Anaoconda\\\\envs\\\\cplex\\\\lib\\\\site-packages\\\\docloud-1.0.375-py3.7.egg', 'd:\\\\Anaoconda\\\\envs\\\\cplex\\\\lib\\\\site-packages\\\\docplex-2.11.176-py3.7.egg', 'd:\\\\Anaoconda\\\\envs\\\\cplex\\\\lib\\\\site-packages\\\\chardet-3.0.4-py3.7.egg', 'd:\\\\Anaoconda\\\\envs\\\\cplex\\\\lib\\\\site-packages\\\\idna-2.8-py3.7.egg', 'd:\\\\Anaoconda\\\\envs\\\\cplex\\\\lib\\\\site-packages\\\\urllib3-1.25.11-py3.7.egg', 'd:\\\\Anaoconda\\\\envs\\\\cplex\\\\lib\\\\site-packages\\\\cplex-12.10.0.0-py3.7.egg', 'd:\\\\Anaoconda\\\\envs\\\\cplex\\\\lib\\\\site-packages\\\\win32', 'd:\\\\Anaoconda\\\\envs\\\\cplex\\\\lib\\\\site-packages\\\\win32\\\\lib', 'd:\\\\Anaoconda\\\\envs\\\\cplex\\\\lib\\\\site-packages\\\\Pythonwin', 'd:\\\\Anaoconda\\\\envs\\\\cplex\\\\lib\\\\site-packages\\\\IPython\\\\extensions', 'C:\\\\Users\\\\Administrator\\\\.ipython', 'c:\\\\Users\\\\Administrator\\\\Desktop\\\\速度爬取\\\\Case Analysis\\\\../Algorithm encapsulation', 'c:\\\\Users\\\\Administrator\\\\Desktop\\\\速度爬取\\\\Case Analysis\\\\..']\n"
     ]
    }
   ],
   "source": [
    "import numpy as np\n",
    "import sys\n",
    "import os\n",
    "sys.path.append(os.path.join(os.getcwd(),\"../Algorithm encapsulation\"))\n",
    "sys.path.append(os.path.join(os.getcwd(),\"..\"))\n",
    "print(sys.path)\n",
    "from MXband import MXband\n",
    "import pandas as pd\n",
    "from ga_platoon import max_dt"
   ]
  },
  {
   "cell_type": "code",
   "execution_count": 2,
   "metadata": {},
   "outputs": [],
   "source": [
    "def get_rf(d,p):\n",
    "    tmp=[]\n",
    "    for i,a in enumerate(p):\n",
    "        idx=np.where(a!=0)[0]\n",
    "        a=a&0\n",
    "        if len(idx)>0:\n",
    "            a[:idx[0]]=1\n",
    "        tmp.append((d[i]*a).sum())\n",
    "    return tmp"
   ]
  },
  {
   "cell_type": "code",
   "execution_count": 3,
   "metadata": {},
   "outputs": [],
   "source": [
    "phase = np.loadtxt(\"./data/phase\")\n",
    "cir=phase[0].sum()\n",
    "phase=phase/cir\n",
    "vol = np.loadtxt(\"./data/volume\")\n",
    "qv = np.loadtxt(\"./data/path_vol\")\n",
    "phase_get = np.load(\"./data/phase_get.npy\")\n",
    "d = np.loadtxt(\"./data/distance\")\n",
    "straight_get = np.load(\"./data/straight_get.npy\")\n",
    "ison = np.array([0, 0, 0, 1, 1, 1])\n",
    "px = np.array([[0, 0, 0, 0, 0, 0, 0, 0, 0, 0, 0, 0, 0],\n",
    "               [0, 0, 0, 0, 0, 0, 0, 0, 0, 0, 0, 0, 0]])\n",
    "pxb = np.array([[0, 0, 0, 0, 0, 0, 0, 0, 0, 0, 0, 0, 0],\n",
    "               [0, 0, 0, 0, 0, 0, 0, 0, 0, 0, 0, 0, 0]])\n",
    "qb=[120,120]\n",
    "lower, upper = 4, 10\n",
    "linspace = np.arange(lower, upper, 1)\n",
    "lin_num = len(linspace)\n",
    "\n",
    "# 南北直行方向绿灯时间\n",
    "sg=np.array([(straight_get[i]*phase).sum(axis=1) for i in range(len(straight_get))])\n",
    "rho = vol[0] / vol[1]\n",
    "num = len(vol[0])\n",
    "numr = len(qv)\n",
    "nump = len(phase_get)\n",
    "M = 1e6\n",
    "nx = 0.00000001\n",
    "be = 8\n",
    "speedScope = np.array([lower, upper])\n",
    "speedVar = np.array([-2, 2])\n",
    "\n",
    "g=np.array([(phase_get[i]*phase).sum(axis=1) for i in range(numr) ])\n",
    "r=1-g\n",
    "rf=np.array([get_rf(phase,phase_get[i]) for i in range(numr)])\n",
    "\n",
    "ex=[1,0,1,0,1,0,1,1,1,1,1,0]\n",
    "dwt=15\n",
    "qb_x=np.ones_like(sg)*20\n",
    "cap=np.ones_like(sg,dtype=int)*3\n",
    "\n",
    "spd_on=pd.read_csv(os.path.join(os.getcwd(),\"..\",\"speed analysis\",\"上行速度数据.csv\"),index_col=0)\n",
    "spd_in=pd.read_csv(os.path.join(os.getcwd(),\"..\",\"speed analysis\",\"下行速度数据.csv\"),index_col=0)\n",
    "\n",
    "p=[0,0,0,0,1,0,0,0,1,0,1,0,0]"
   ]
  },
  {
   "cell_type": "code",
   "execution_count": 4,
   "metadata": {},
   "outputs": [
    {
     "name": "stdout",
     "output_type": "stream",
     "text": [
      "13 13\n",
      "conflict(s): 0\n",
      "status  = integer optimal solution\n",
      "time    = 0.14 s.\n",
      "problem = MILP\n",
      "gap     = 0%\n",
      "\n",
      "object value: 6.918\n"
     ]
    }
   ],
   "source": [
    "mb=MXband(phase,[80,180],straight_get,d,lower,upper,speedVar[0], speedVar[1],vol,px)\n",
    "mb._solve()"
   ]
  },
  {
   "cell_type": "code",
   "execution_count": 6,
   "metadata": {},
   "outputs": [],
   "source": [
    "a=mb.get_dataframe()"
   ]
  },
  {
   "cell_type": "code",
   "execution_count": 7,
   "metadata": {},
   "outputs": [
    {
     "data": {
      "text/plain": [
       "b1    26.136962\n",
       "b2    27.031816\n",
       "dtype: float64"
      ]
     },
     "execution_count": 7,
     "metadata": {},
     "output_type": "execute_result"
    }
   ],
   "source": [
    "a[[\"b1\",\"b2\"]].mean()"
   ]
  },
  {
   "cell_type": "code",
   "execution_count": null,
   "metadata": {},
   "outputs": [],
   "source": []
  }
 ],
 "metadata": {
  "kernelspec": {
   "display_name": "cplex",
   "language": "python",
   "name": "python3"
  },
  "language_info": {
   "codemirror_mode": {
    "name": "ipython",
    "version": 3
   },
   "file_extension": ".py",
   "mimetype": "text/x-python",
   "name": "python",
   "nbconvert_exporter": "python",
   "pygments_lexer": "ipython3",
   "version": "3.7.11"
  },
  "orig_nbformat": 4
 },
 "nbformat": 4,
 "nbformat_minor": 2
}
