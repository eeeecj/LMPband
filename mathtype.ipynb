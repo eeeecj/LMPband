{
 "cells": [
  {
   "attachments": {},
   "cell_type": "markdown",
   "metadata": {},
   "source": [
    "$$\n",
    "\\begin{cases}\n",
    "    \\frac{b_{i,k}^{b}}{2}-M{{p}_{k+1}}\\le \\omega _{i,k+1}^{b}\\le 1-r_{i,k+1}^{b}-\\frac{b_{i,k}^{b}}{2}+M{{p}_{k+1}} & \\forall i=1,\\cdots ,m;\\forall k=1,\\cdots ,n-1  \\\\\n",
    " \\frac{\\bar{b}_{i,k+1}^{b}}{2}-M{{p}_{k+1}}\\le \\bar{\\omega }_{i,k}^{b}\\le 1-r_{i,k}^{c}-\\frac{\\bar{b}_{i,k+1}^{b}}{2}+M{{p}_{k+1}} & \\forall i=1,\\cdots ,m;\\forall k=1,\\cdots ,n-1  \\\\\n",
    "\\end{cases} \n",
    "$$\n"
   ]
  },
  {
   "attachments": {},
   "cell_type": "markdown",
   "metadata": {},
   "source": [
    "$$ \\begin{cases}\n",
    "   Max & \\left( {{w}_{1}}({{D}_{1}}+{{D}_{2}})-{{w}_{3}}{{D}_{3}}-{{w}_{4}}{{D}_{4}} \\right)  \\\\\n",
    "   & {{D}_{1}}=\\underset{i=1}{\\overset{I}{\\mathop \\sum }}\\,\\sum\\limits_{k=1}^{K}{(}{{N}^{c}}q_{i,k}^{c}b_{i,k}^{c}{{C}_{k}}+{{\\bar{N}}^{c}}\\bar{q}_{i,k}^{c}\\bar{b}_{i,k}^{c}{{C}_{k}})\\quad \\forall i=1,\\cdots ,m;\\forall k=1,\\cdots ,n \\\\\n",
    "   & {{D}_{2}}=\\underset{i=1}{\\overset{I}{\\mathop \\sum }}\\,\\sum\\limits_{k=1}^{K}{({{N}^{b}}}{{q}^{b}}b_{k}^{b}{{C}_{k}}+{{\\bar{N}}^{b}}{{\\bar{q}}^{b}}\\bar{b}_{k}^{b}{{C}_{k}})\\quad \\forall i=1,\\cdots ,m;\\forall k=1,\\cdots ,n \\\\\n",
    "   & {D}_{3}=\\sum\\limits_{i=1}^{I}{\\sum\\limits_{k=1}^{K}{{{C}_{k}}}}({{N}^{b}}q_{i}^{b}({{\\mu }_{i,k}}-\\omega _{i,k}^{b})+{{\\bar{N}}_{b}}\\bar{q}_{i}^{b}({{\\bar{\\mu }}_{i,k}}-\\bar{\\omega }_{i,k}^{b}))\\quad \\forall i=1,\\cdots ,m;\\forall k=1,\\cdots ,n \\\\\n",
    "   & {{D}_{4}}=\\sum\\limits_{k=1}^{K}{E}{{p}_{k}}({{Q}_{k}}+{{\\bar{Q}}_{k}})\\quad \\forall k=1,\\cdots ,n\\\\\n",
    "&  \\frac{1}{{{C}_{max}}}\\le {{z}_{k}}\\le \\frac{1}{{{C}_{min}}}\\quad  & \\forall k=1,\\cdots ,n  \\\\\n",
    " &  -M{{p}_{k+1}}\\le {{z}_{k+1}}-{{z}_{k}}\\le M{{P}_{k+1}}\\quad  & \\forall k=1,2,\\cdots ,n-1  \\\\\n",
    "& \\frac{b_{i,k}^{c}}{2}+\\Delta _{k}^{c}\\le {{w}_{i,k}}\\le 1-r_{i,k}^{c}-\\frac{b_{i,k}^{c}}{2}\\quad & \\forall i=1,\\cdots ,m;\\forall k=1,\\cdots ,n  \\\\\n",
    "  & \\frac{\\bar{b}_{i,k}^{c}}{2}+\\bar{\\Delta }_{k}^{c}\\le {{{\\bar{w}}}_{i,k}}\\le 1-r_{i,k}^{c}-\\frac{\\bar{b}_{i,k}^{c}}{2}\\quad \\forall i=1,\\cdots ,m;\\forall k=1,\\cdots ,n  \\\\\n",
    "  & \\frac{b_{i,k}^{c}}{2}-M{{p}_{k+1}}\\le \\omega _{i,k+1}^{c}\\le 1-r_{i,k+1}^{c}-\\frac{b_{i,k}^{c}}{2}+M{{p}_{k+1}}\\quad \\forall i=1,\\cdots ,m;\\forall k=1,\\cdots ,n-1 \\\\ \n",
    " & \\frac{\\bar{b}_{i,k+1}^{c}}{2}-M{{p}_{k+1}}\\le \\bar{\\omega }_{i,k}^{c}\\le 1-r_{i,k}^{c}-\\frac{\\bar{b}_{i,k+1}^{c}}{2}+M{{p}_{k+1}}\\quad \\forall i=1,\\cdots ,m;\\forall k=1,\\cdots ,n-1 \\\\ \n",
    "& (1-{{\\rho }_{k}})\\sum\\limits_{i=1}^{I}{{{{\\bar{b}}}_{i,k}}}\\ge (1-{{\\rho }_{k}}){{\\rho }_{k}}\\sum\\limits_{i=1}^{I}{{{b}_{i,k}}}\\quad \\forall i=1,\\cdots ,m;\\forall k=1,\\cdots ,n\n",
    "  & -M{{p}_{k+1}}\\le {{y}_{i,k}}-{{y}_{i,k+1}}\\le M{{p}_{k+1}}\\quad \\forall i=1,\\cdots ,m;\\forall k=1,\\cdots ,n-1  \\\\\n",
    "  & -M{{p}_{k+1}}\\le {{{\\bar{y}}}_{i,k}}-{{{\\bar{y}}}_{i,k+1}}\\le M{{p}_{k+1}}\\quad \\forall i=1,\\cdots ,m;\\forall k=1,\\cdots ,n-1  \\\\\n",
    "\\end{cases}\n",
    "$$\n"
   ]
  }
 ],
 "metadata": {
  "kernelspec": {
   "display_name": "cplex",
   "language": "python",
   "name": "python3"
  },
  "language_info": {
   "name": "python",
   "version": "3.7.11"
  },
  "orig_nbformat": 4,
  "vscode": {
   "interpreter": {
    "hash": "7394a20464bfa482dd07f61af22adbf437c72944e505bfcd6e11eb225ca9c49b"
   }
  }
 },
 "nbformat": 4,
 "nbformat_minor": 2
}
