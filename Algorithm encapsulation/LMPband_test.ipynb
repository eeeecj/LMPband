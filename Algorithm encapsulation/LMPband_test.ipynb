{
 "cells": [
  {
   "cell_type": "code",
   "execution_count": 1,
   "metadata": {},
   "outputs": [],
   "source": [
    "import numpy as np\n",
    "from LMPband import LMPband"
   ]
  },
  {
   "cell_type": "code",
   "execution_count": 2,
   "metadata": {},
   "outputs": [],
   "source": [
    "def get_grf(x,phase,idx,k,numr):\n",
    "    f=sum([x[l,idx,k]*phase[k,l] for l in range(numr) if l!=idx])\n",
    "    return f"
   ]
  },
  {
   "cell_type": "code",
   "execution_count": 3,
   "metadata": {},
   "outputs": [],
   "source": [
    "phase = np.loadtxt(\"../phase\")\n",
    "cir=phase[0].sum()\n",
    "phase=phase/cir\n",
    "vol = np.loadtxt(\"../volume\")\n",
    "qv = np.loadtxt(\"../path_vol\")\n",
    "phase_get = np.load(\"../phase_get.npy\")\n",
    "d = np.loadtxt(\"../distance\")\n",
    "# dr = np.loadtxt(\"dr\")\n",
    "# dr=dr/cir\n",
    "straight_get = np.load(\"../straight_get.npy\")\n",
    "\n",
    "srl_get=np.load(\"../srl_get.npy\")\n",
    "ison = np.array([0, 0, 0, 1, 1, 1])\n",
    "px = np.array([[0, 0, 0, 0, 0, 0, 0, 0, 0, 0, 0, 0, 0, 0, 0],\n",
    "               [0, 0, 0, 0, 0, 0, 0, 0, 0, 0, 0, 0, 0, 0, 0]])\n",
    "pxb = np.array([[0, 0, 0, 0, 0, 0, 0, 0, 0, 0, 0, 0, 0, 0, 0],\n",
    "               [0, 0, 0, 0, 0, 0, 0, 0, 0, 0, 0, 0, 0, 0, 0]])\n",
    "qb=[120,120]\n",
    "ex=[0,1,1,0,1,0,1,1,0,1,1,0,1,1]\n",
    "dwt=15\n",
    "lower, upper = 8, 12\n",
    "linspace = np.arange(lower, upper, 1)\n",
    "lin_num = len(linspace)\n",
    "\n",
    "# # 南北直行方向绿灯时间\n",
    "sg=np.array([(straight_get[i]*phase).sum(axis=1) for i in range(len(straight_get))])\n",
    "# srf=np.array([get_rf(phase,straight_get[i]) for i in range(len(srl_get))])\n",
    "\n",
    "g=np.array([(phase_get[i]*phase).sum(axis=1) for i in range(len(phase_get))])\n",
    "\n",
    "rho = vol[0] / vol[1]\n",
    "num = len(vol[0])\n",
    "numr = len(qv)\n",
    "nump = len(phase_get)\n",
    "M = 1e6\n",
    "nx = 0.00000001 \n",
    "be = 8\n",
    "speedScope = np.array([lower, upper])\n",
    "speedVar = np.array([-2, 2])"
   ]
  },
  {
   "cell_type": "code",
   "execution_count": 4,
   "metadata": {},
   "outputs": [
    {
     "name": "stdout",
     "output_type": "stream",
     "text": [
      "Version identifier: 12.10.0.0 | 2019-11-26 | 843d4de2ae\n",
      "CPXPARAM_Read_DataCheck                          1\n",
      "CPXPARAM_RandomSeed                              201903125\n",
      "\n",
      "Multi-objective solve log . . .\n",
      "\n",
      "Index  Priority  Blend          Objective      Nodes  Time (sec.)  DetTime (ticks)\n",
      "\n",
      "Performing restart 1\n",
      "    1         0      3   2.1933646374e+04    2824998       168.09        121104.04\n",
      "status  = multi-objective optimal\n",
      "time    = 168.11 s.\n",
      "problem = MILP\n",
      "gap     = 2.03122e+73%\n",
      "\n",
      "object value 4923\n"
     ]
    }
   ],
   "source": [
    "lmp=LMPband(phase,[80,200],vol,qv,phase_get,d,straight_get,srl_get,ison,px,pxb,qb,ex,dwt,lower,upper,\n",
    "                 linspace,be,speedScope,speedVar,speedScope,speedVar,9,2)\n",
    "\n",
    "lmp._M1_solve()"
   ]
  },
  {
   "cell_type": "code",
   "execution_count": 5,
   "metadata": {},
   "outputs": [
    {
     "name": "stdout",
     "output_type": "stream",
     "text": [
      "Version identifier: 12.10.0.0 | 2019-11-26 | 843d4de2ae\n",
      "CPXPARAM_Read_DataCheck                          1\n",
      "CPXPARAM_RandomSeed                              201903125\n",
      "\n",
      "Multi-objective solve log . . .\n",
      "\n",
      "Index  Priority  Blend          Objective      Nodes  Time (sec.)  DetTime (ticks)\n",
      "    1         2      2   2.1257877070e+04       4345         0.64           419.37\n",
      "\n",
      "Performing restart 1\n",
      "    2         1      1   1.4148379975e+02      52847         6.61          5023.23\n",
      "status  = multi-objective optimal\n",
      "time    = 7.265 s.\n",
      "problem = MILP\n",
      "gap     = 2.28278e+73%\n",
      "\n",
      "object value 4381\n"
     ]
    }
   ],
   "source": [
    "lmp._M2_solve()"
   ]
  },
  {
   "cell_type": "code",
   "execution_count": null,
   "metadata": {},
   "outputs": [],
   "source": []
  }
 ],
 "metadata": {
  "kernelspec": {
   "display_name": "cplex",
   "language": "python",
   "name": "cplex"
  },
  "language_info": {
   "codemirror_mode": {
    "name": "ipython",
    "version": 3
   },
   "file_extension": ".py",
   "mimetype": "text/x-python",
   "name": "python",
   "nbconvert_exporter": "python",
   "pygments_lexer": "ipython3",
   "version": "3.7.11"
  },
  "orig_nbformat": 4
 },
 "nbformat": 4,
 "nbformat_minor": 2
}
