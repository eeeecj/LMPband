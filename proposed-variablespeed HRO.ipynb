{
 "cells": [
  {
   "cell_type": "code",
   "execution_count": null,
   "metadata": {},
   "outputs": [],
   "source": [
    "import pandas as pd\n",
    "import cvxpy as cp\n",
    "import numpy as np\n",
    "import docplex.mp.model as md\n",
    "from docplex.mp.conflict_refiner import ConflictRefiner \n",
    "import scipy.stats as stats\n",
    "import seaborn as sns\n",
    "import matplotlib.patches as pch\n",
    "import matplotlib.pyplot as plt\n"
   ]
  },
  {
   "attachments": {},
   "cell_type": "markdown",
   "metadata": {},
   "source": [
    "# 加载数据\n"
   ]
  },
  {
   "cell_type": "code",
   "execution_count": null,
   "metadata": {},
   "outputs": [],
   "source": [
    "phase = np.loadtxt(\"phase\")\n",
    "cir=phase[0].sum()\n",
    "phase=phase/cir\n",
    "vol = np.loadtxt(\"volume\")\n",
    "qv = np.loadtxt(\"path_vol\")\n",
    "phase_get = np.load(\"phase_get.npy\")\n",
    "d = np.loadtxt(\"distance\")\n",
    "# dr = np.loadtxt(\"dr\")\n",
    "# dr=dr/cir\n",
    "straight_get = np.load(\"straight_get.npy\")\n",
    "\n",
    "srl_get=np.load(\"srl_get.npy\")\n",
    "ison = np.array([0, 0, 0, 1, 1, 1])\n",
    "px = np.array([[0, 0, 0, 0, 0, 0, 0, 0, 0, 0, 0, 0, 0, 0, 0],\n",
    "               [0, 0, 0, 0, 0, 0, 0, 0, 0, 0, 0, 0, 0, 0, 0]])\n"
   ]
  },
  {
   "cell_type": "code",
   "execution_count": null,
   "metadata": {},
   "outputs": [],
   "source": [
    "def get_rf(d,p):\n",
    "    tmp=[]\n",
    "    for i,a in enumerate(p):\n",
    "        idx=np.where(a!=0)[0]\n",
    "        a=a&0\n",
    "        if len(idx)>0:\n",
    "            a[:idx[0]]=1\n",
    "        tmp.append((d[i]*a).sum())\n",
    "    return tmp"
   ]
  },
  {
   "attachments": {},
   "cell_type": "markdown",
   "metadata": {},
   "source": [
    "## 速度数据\n"
   ]
  },
  {
   "cell_type": "code",
   "execution_count": null,
   "metadata": {},
   "outputs": [],
   "source": [
    "lower, upper = 8, 12\n",
    "linspace = np.arange(lower, upper, 1)\n",
    "lin_num = len(linspace)\n",
    "\n",
    "# 南北直行方向绿灯时间\n",
    "sg=np.array([(straight_get[i]*phase).sum(axis=1) for i in range(len(straight_get))])\n",
    "srf=np.array([get_rf(phase,straight_get[i]) for i in range(len(srl_get))])"
   ]
  },
  {
   "attachments": {},
   "cell_type": "markdown",
   "metadata": {},
   "source": [
    "## 长干道数据\n"
   ]
  },
  {
   "cell_type": "code",
   "execution_count": null,
   "metadata": {},
   "outputs": [],
   "source": [
    "rho = vol[0] / vol[1]\n",
    "num = len(vol[0])\n",
    "numr = len(qv)\n",
    "nump = len(phase_get)\n",
    "M = 1e6\n",
    "nx = 0.00000001\n",
    "be = 8\n",
    "speedScope = np.array([lower, upper])\n",
    "speedVar = np.array([-2, 2])\n",
    "\n",
    "g=np.array([(phase_get[i]*phase).sum(axis=1) for i in range(numr) ])\n",
    "r=1-g\n",
    "rf=np.array([get_rf(phase,phase_get[i]) for i in range(numr)])"
   ]
  },
  {
   "attachments": {},
   "cell_type": "markdown",
   "metadata": {},
   "source": [
    "# 定义变量\n"
   ]
  },
  {
   "attachments": {},
   "cell_type": "markdown",
   "metadata": {},
   "source": [
    "### 通用变量"
   ]
  },
  {
   "cell_type": "code",
   "execution_count": null,
   "metadata": {},
   "outputs": [],
   "source": [
    "model = md.Model(\"prosmodel\")\n",
    "Z_list = [(i) for i in range(num)]\n",
    "z = model.continuous_var_dict(Z_list, lb=1 / 180, ub=1 / 80, name=\"z\")\n",
    "\n",
    "o_list = [(i) for i in range(num)]\n",
    "o = model.continuous_var_dict(o_list, lb=0, ub=1, name=\"o\")\n",
    "\n",
    "t_list = [(i, k) for i in range(2) for k in range(num-1)]\n",
    "t = model.continuous_var_dict(t_list, lb=0, name=\"t\")\n"
   ]
  },
  {
   "attachments": {},
   "cell_type": "markdown",
   "metadata": {},
   "source": [
    "### 长干道变量"
   ]
  },
  {
   "cell_type": "code",
   "execution_count": null,
   "metadata": {},
   "outputs": [],
   "source": [
    "p_list = [(i) for i in range(num)]\n",
    "p = model.binary_var_dict(p_list, name=\"p\")\n",
    "\n",
    "w_list = [(i, k) for i in range(numr) for k in range(num)]\n",
    "w = model.continuous_var_dict(w_list, lb=0, ub=1, name=\"w\")\n",
    "\n",
    "b_list = [(i, k) for i in range(numr) for k in range(num)]\n",
    "b = model.continuous_var_dict(b_list, lb=0, ub=1, name=\"b\")\n",
    "\n",
    "n_list = [(i, k) for i in range(numr) for k in range(num)]\n",
    "n = model.integer_var_dict(n_list, lb=0, ub=10, name=\"n\")\n",
    "\n",
    "u_list = [(i, k) for i in range(numr) for k in range(num)]\n",
    "u = model.continuous_var_dict(u_list, lb=0, ub=1, name=\"u\")\n",
    "\n",
    "y_list = [(i, k) for i in range(numr) for k in range(num)]\n",
    "y = model.binary_var_dict(y_list, name=\"y\")\n"
   ]
  },
  {
   "attachments": {},
   "cell_type": "markdown",
   "metadata": {},
   "source": [
    "## 速度波动变量"
   ]
  },
  {
   "cell_type": "code",
   "execution_count": null,
   "metadata": {},
   "outputs": [],
   "source": [
    "yp_list=[(i,j,k) for i in range(2) for j in range(num) for k in range(lin_num)]\n",
    "yp=model.binary_var_dict(yp_list,name=\"yp\")\n",
    "\n",
    "nt_list = [(i, j, k) for i in range(2) for j in range(num) for k in range(lin_num)]\n",
    "nt = model.integer_var_dict(nt_list, lb=0, ub=10, name=\"nt\")\n",
    "\n",
    "C_list=[(i,j,k) for i in range(2) for j in range(num) for k in range(lin_num)]\n",
    "C=model.continuous_var_dict(C_list,lb=0,ub=1,name=\"C\")\n",
    "\n",
    "pc_list=[(i,j,k) for i in range(2) for j in range(num) for k in range(lin_num)]\n",
    "pc=model.binary_var_dict(pc_list,name=\"pc\")\n"
   ]
  },
  {
   "attachments": {},
   "cell_type": "markdown",
   "metadata": {},
   "source": [
    "# 长干道模型"
   ]
  },
  {
   "attachments": {},
   "cell_type": "markdown",
   "metadata": {},
   "source": [
    "## 长干道约束"
   ]
  },
  {
   "attachments": {},
   "cell_type": "markdown",
   "metadata": {},
   "source": [
    "保障路径$i$的绿波带宽出现出现在交叉口$k$内：\n",
    "$$\n",
    "\\begin{cases}\n",
    "b_{i,k}/2+\\Delta_k\\leq w_{i,k}\\leq 1-r_{i,k}-b_{i,k}/2\\\\\n",
    "\\bar{b}_{i,k}/2+\\bar{\\Delta}_k\\leq \\bar{w}_{i,k} \\leq 1-r_{i,k}-\\bar{b}_{i,k}/2\n",
    "\\end{cases}\n",
    "$$\n"
   ]
  },
  {
   "cell_type": "code",
   "execution_count": null,
   "metadata": {},
   "outputs": [],
   "source": [
    "for k in range(num):\n",
    "    for i in range(numr):\n",
    "        model.add_constraint(b[i, k] / 2+px[ison[i],k]<= w[i, k])\n",
    "        model.add_constraint(w[i, k] <= g[i][k] - b[i, k] / 2)\n"
   ]
  },
  {
   "attachments": {},
   "cell_type": "markdown",
   "metadata": {},
   "source": [
    "速度变化区间为：\n",
    "$$\n",
    "\\begin{cases}\n",
    "\\frac{d_k}{f_k}z\\leq t_k \\leq \\frac{d_k}{e_k}z\\\\\n",
    "\\frac{\\bar{d}_k}{\\bar{f}_k}z \\leq \\bar{t}_k \\leq \\frac{\\bar{d}_k}{\\bar{e}_k}z\\\\\n",
    "\\frac{d_k}{h_k}z\\leq \\frac{d_k}{d_{k+1}}t_{k+1}-t_k \\leq \\frac{d_k}{g_k}z\\\\\n",
    "\\frac{\\bar{d}_k}{\\bar{h}_k}z \\leq \\frac{\\bar{d}_k}{\\bar{d}_{k+1}}\\bar{t}_{k+1}-\\bar{t}_k\\leq \\frac{\\bar{d}_k}{\\bar{g_k}}z\n",
    "\\end{cases}\n",
    "$$"
   ]
  },
  {
   "cell_type": "code",
   "execution_count": null,
   "metadata": {},
   "outputs": [],
   "source": [
    "for k in range(num-1):\n",
    "    model.add_constraint(d[k] / speedScope[1] * z[k] <= t[0, k])\n",
    "    model.add_constraint(t[0, k] <= d[k] / speedScope[0] * z[k])\n",
    "\n",
    "    model.add_constraint(d[k] / speedScope[1] * z[k] <= t[1, k])\n",
    "    model.add_constraint(t[1, k] <= d[k] / speedScope[0] * z[k])\n",
    "\n",
    "for k in range(num-2):\n",
    "    model.add_constraint(d[k] / speedVar[0] * z[k] <= d[k] / d[k+1] * t[0, k + 1] - t[0, k])\n",
    "    model.add_constraint(d[k]/d[k+1] * t[0, k + 1] - t[0, k] <= d[k] / speedVar[1] * z[k])\n",
    "\n",
    "    model.add_constraint(d[k] / speedVar[0] * z[k] <= d[k]/d[k+1] * t[1, k + 1] - t[1, k])\n",
    "    model.add_constraint(d[k]/d[k+1] * t[1, k + 1] - t[1, k] <= d[k] / speedVar[1] * z[k])"
   ]
  },
  {
   "attachments": {},
   "cell_type": "markdown",
   "metadata": {},
   "source": [
    "确保每个子区至少包含两个交叉口：\n",
    "$$p_k+p_{k+1}<=1$$"
   ]
  },
  {
   "cell_type": "code",
   "execution_count": null,
   "metadata": {},
   "outputs": [],
   "source": [
    "for k in range(num-1):\n",
    "    model.add_constraint(p[k] + p[k + 1] <= 1)"
   ]
  },
  {
   "attachments": {},
   "cell_type": "markdown",
   "metadata": {},
   "source": [
    "交叉口偏移量$\\mu_{i,k}$，表示当交叉口$k$为干道分割点时，路径$i$在交叉口的偏移量，即当$p_k=1$时，$\\tau_{i,k}>0$,否则，$\\mu_{i,k}=0$,约束表达为：\n",
    "$$\n",
    "\\epsilon p_k\\leq \\mu_{i,k}\\leq p_k\n",
    "$$"
   ]
  },
  {
   "cell_type": "code",
   "execution_count": null,
   "metadata": {},
   "outputs": [],
   "source": [
    "for k in range(num):\n",
    "    for i in range(numr):\n",
    "        model.add_constraints([nx * p[k] <= u[i, k], u[i, k] <= p[k]])"
   ]
  },
  {
   "attachments": {},
   "cell_type": "markdown",
   "metadata": {},
   "source": [
    "当路径$i$在交叉口$k$取得非零带宽，则应满足如下约束:\n",
    "$$\\begin{cases}\n",
    "beZ_k-M (1-y_{i,k})\\leq b_{i,k}\\leq y_{i,k} \\\\\n",
    "beZ_k-M (1-\\bar{y}_{i,k})\\leq \\bar{b}_{i,k}\\leq \\bar{y}_{i,k}\n",
    "\\end{cases}\n",
    "$$"
   ]
  },
  {
   "cell_type": "code",
   "execution_count": null,
   "metadata": {},
   "outputs": [],
   "source": [
    "for k in range(num):\n",
    "    for i in range(numr):\n",
    "        model.add_constraint(be * z[k] - M * (1 - y[i, k]) <= b[i, k])\n",
    "        model.add_constraint(b[i, k] <= y[i, k])\n"
   ]
  },
  {
   "attachments": {},
   "cell_type": "markdown",
   "metadata": {},
   "source": [
    "相同分段子区内部的交叉口绿波带宽相同，约束表达为：\n",
    "$$\\begin{cases}\n",
    "-M p_{k+1}\\leq b_{i,k}-b_{i,k+1}\\leq M p_{k+1}\\\\\n",
    "-M p_{k}\\leq \\bar{b}_{i,k}-\\bar{b}_{i,k+1}\\leq M p_{k}\n",
    "\\end{cases}\n",
    "$$"
   ]
  },
  {
   "attachments": {},
   "cell_type": "markdown",
   "metadata": {},
   "source": [
    "为避免路径产生无效带宽，引入二进制变量$y_{i,k}$,其定义如下：\n",
    "$$\n",
    "y_{i,k}=\\begin{cases}\n",
    "1,&\\text{如果路径$i$在交叉口$k$能够获得有效非零带宽}\\\\\n",
    "0,& \\text{其他}\n",
    "\\end{cases}\n",
    "$$\n",
    "\n",
    "路径$i$在相同分组内取得相等带宽，进而约束相同分组内交叉口同时取得非零带宽，在不同分组可能无法取得带宽，其约束表达如下：\n",
    "\n",
    "$$\\begin{cases}\n",
    "-M p_{k+1}\\leq y_{i,k}-y_{i,k+1}\\leq M p_{k+1}\\\\\n",
    "-M p_{k}\\leq \\bar{y}_{i,k}-\\bar{y}_{i,k+1}\\leq M p_{k}\n",
    "\\end{cases}\n",
    "$$"
   ]
  },
  {
   "attachments": {},
   "cell_type": "markdown",
   "metadata": {},
   "source": [
    "其含义为，当路径$i$在交叉口$k$能够取得非零带宽,则其带宽应大于基础带宽$be$"
   ]
  },
  {
   "attachments": {},
   "cell_type": "markdown",
   "metadata": {},
   "source": [
    "因引入$y_{i,k}$，当路径$i$在交叉口$k$无法取得有效带宽时，其循环整形约束应不再起作用，循环整形约束可修改为:"
   ]
  },
  {
   "attachments": {},
   "cell_type": "markdown",
   "metadata": {},
   "source": [
    "$$\n",
    "\\begin{cases}\n",
    "\\theta_k+r_{i,k}+\\varphi_{i,k}+w_{i,k}+t_{k}+\\mu_{k+1}\\geq \\theta_{k+1}+r_{i,k+1}+\\varphi_{i,k+1}+w_{i,k+1}+n_{i,k+1}-M(1-y_{i,k})\\\\\n",
    "\\theta_k+r_{i,k}+\\varphi_{i,k}+w_{i,k}+t_{k}+\\mu_{k+1}\\leq \\theta_{k+1}+r_{i,k+1}+\\varphi_{i,k+1}+w_{i,k+1}+n_{i,k+1}+M(1-y_{i,k})\\\\ \n",
    "\\end{cases}\n",
    "$$\n",
    "\n",
    "$$\n",
    "\\begin{cases}\n",
    "\\theta_k+\\bar{r}_{i,k}+\\bar{\\varphi}_{i,k}+\\bar{w}_{i,k}+\\bar{n}_{i,k}\\geq\\theta_{k+1}+\\bar{r}_{i,k+1}+\\bar{\\varphi}_{i,k+1}+\\bar{w}_{i,k+1}+\\bar{t}_{k}+\\bar{\\mu}_{k}-M(1-y_{i,k})\\\\\n",
    "\\theta_k+\\bar{r}_{i,k}+\\bar{\\varphi}_{i,k}+\\bar{w}_{i,k}+\\bar{n}_{i,k}\\leq\\theta_{k+1}+\\bar{r}_{i,k+1}+\\bar{\\varphi}_{i,k+1}+\\bar{w}_{i,k+1}+\\bar{t}_{k}+\\bar{\\mu}_{k}+M(1-y_{i,k})\n",
    "\\end{cases}\n",
    "$$"
   ]
  },
  {
   "cell_type": "code",
   "execution_count": null,
   "metadata": {},
   "outputs": [],
   "source": [
    "def add_split_on_cons(i):\n",
    "    for k in range(num-1):\n",
    "        model.add_constraint(o[k] + rf[i, k] + w[i, k] + t[0, k] + u[i, k+1] >=\n",
    "                             o[k + 1] + rf[i, k+1] + w[i, k + 1] + n[i, k + 1] - M * (1 - y[i, k+1]))\n",
    "        model.add_constraint(o[k] + rf[i, k] + w[i, k] + t[0, k] + u[i, k+1] <=\n",
    "                             o[k + 1] + rf[i, k+1] + w[i, k + 1] + n[i, k + 1] + M * (1 - y[i, k+1]))\n",
    "\n",
    "        model.add_constraint(-M * p[k+1] <= b[i, k] - b[i, k + 1])\n",
    "        model.add_constraint(b[i, k] - b[i, k + 1] <= M * p[k+1])\n",
    "\n",
    "        model.add_constraint(-M * p[k+1] <= y[i, k + 1] - y[i, k])\n",
    "        model.add_constraint(y[i, k + 1] - y[i, k] <= M * p[k+1])\n",
    "\n",
    "\n",
    "def add_split_in_cons(i):\n",
    "    for k in range(num-1):\n",
    "        model.add_constraint(o[k] + rf[i, k] + w[i, k] + n[i, k] >=\n",
    "                             o[k + 1] + rf[i, k+1] + w[i, k + 1] + t[1, k] + u[i, k] - M * (1 - y[i, k]))\n",
    "        model.add_constraint(o[k] + rf[i, k] + w[i, k] + n[i, k] <=\n",
    "                             o[k + 1] + rf[i, k+1] + w[i, k + 1] + t[1, k] + u[i, k] + M * (1 - y[i, k]))\n",
    "\n",
    "        model.add_constraint(-M * p[k+1] <= b[i, k] - b[i, k + 1])\n",
    "        model.add_constraint(b[i, k] - b[i, k + 1] <= M * p[k+1])\n",
    "\n",
    "        model.add_constraint(-M * p[k+1] <= y[i, k + 1] - y[i, k])\n",
    "        model.add_constraint(y[i, k + 1] - y[i, k] <= M * p[k+1])\n"
   ]
  },
  {
   "cell_type": "code",
   "execution_count": null,
   "metadata": {},
   "outputs": [],
   "source": [
    "model.add_constraint(o[0]==0)\n",
    "for i in range(numr):\n",
    "    if ison[i]==0:\n",
    "        add_split_on_cons(i)\n",
    "    elif ison[i]==1:\n",
    "        add_split_in_cons(i)"
   ]
  },
  {
   "attachments": {},
   "cell_type": "markdown",
   "metadata": {},
   "source": [
    "注意到某些情况下，模型可能更偏好某一方向带宽，从而将其他方向的带宽设置为0，为避免这种情况的发生，同时体现模型对上行（下行）方向的偏好，定义约束："
   ]
  },
  {
   "attachments": {},
   "cell_type": "markdown",
   "metadata": {},
   "source": [
    "$$\n",
    "(1-\\rho_{k})\\sum_i b_{i,k}\\geq (1-\\rho_{k})\\rho_{k} \\sum_i \\bar{b}_{i,k}\n",
    "$$"
   ]
  },
  {
   "cell_type": "code",
   "execution_count": null,
   "metadata": {},
   "outputs": [],
   "source": [
    "for k in range(num):\n",
    "    model.add_constraint((1 - rho[k]) * model.sum([b[i, k]*(1-ison[i]) for i in range(numr)])>=\\\n",
    "         (1 - rho[k])* rho[k]* model.sum([b[i, k]*ison[i] for i in range(numr)]))"
   ]
  },
  {
   "attachments": {},
   "cell_type": "markdown",
   "metadata": {},
   "source": [
    "因干道分割可对长干道进行分组，组内实现干道协调，不同组之间互不影响，因此不同分组可采用不同的信号协调周期，其约束表达如下："
   ]
  },
  {
   "attachments": {},
   "cell_type": "markdown",
   "metadata": {},
   "source": [
    "$$\n",
    "\\begin{cases}\n",
    "Z_{min}\\leq Z_k\\leq Z_{max}\\\\\n",
    "-Mp_{k+1}\\leq Z_{k+1}-Z_{k}\\leq MP_{k+1}\n",
    "\\end{cases}\n",
    "$$"
   ]
  },
  {
   "cell_type": "code",
   "execution_count": null,
   "metadata": {},
   "outputs": [],
   "source": [
    "for k in range(num-1):\n",
    "    model.add_constraint(-M * p[k + 1] <= z[k + 1] - z[k])\n",
    "    model.add_constraint(z[k + 1] - z[k] <= M * p[k + 1])"
   ]
  },
  {
   "attachments": {},
   "cell_type": "markdown",
   "metadata": {},
   "source": [
    "通过该约束，可实现在不同分段子区之间，可采用不同的信号周期，避免过长的干道采用相同信号周期造成部分交叉口车辆延误过大"
   ]
  },
  {
   "cell_type": "markdown",
   "metadata": {},
   "source": [
    "### 速度波动约束"
   ]
  },
  {
   "cell_type": "markdown",
   "metadata": {},
   "source": [
    "插入图片"
   ]
  },
  {
   "cell_type": "markdown",
   "metadata": {},
   "source": [
    "车辆速度在速度区间$[7.3,14.2]$内呈$X~N(9,1)$的正态分布，分布表示如下：\n",
    "$$\n",
    "f(x)=\\frac{1}{\\sqrt{2\\pi}}e^{-\\frac{(x-9)^2}{2}}\n",
    "$$\n",
    "$$\n",
    "f(x)=\\frac{1}{\\sigma\\sqrt{2*\\pi}}e^{-\\frac{x-\\mu}{2\\sigma^2}}\n",
    "$$"
   ]
  },
  {
   "cell_type": "code",
   "execution_count": null,
   "metadata": {},
   "outputs": [],
   "source": [
    "def getprop(linspace1,linspace2,mu,sigma):\n",
    "    t1=stats.norm(mu,sigma).cdf(linspace1)\n",
    "    t2=stats.norm(mu,sigma).cdf(linspace2)\n",
    "    return t2-t1"
   ]
  },
  {
   "cell_type": "code",
   "execution_count": null,
   "metadata": {},
   "outputs": [],
   "source": [
    "mu=9\n",
    "sigma=np.sqrt(2)\n",
    "print(linspace)\n",
    "ProDistribution=getprop(linspace-0.25,linspace+0.25,mu,sigma)\n",
    "np.around(ProDistribution,2)"
   ]
  },
  {
   "cell_type": "markdown",
   "metadata": {},
   "source": [
    "$i$表示路径，$j$表示相位，$k$表示交叉口\n",
    "- $A_k$ ：表示上行带宽所处红灯结束（绿灯开始时间）点位\n",
    "\n",
    "- $B_k$: 表示上行带宽所处绿灯结束（红灯开始时间）点位\n",
    "\n",
    "- $A_{k}^{\\prime}$:上行带宽与交叉口相位的左侧交点\n",
    "\n",
    "- $B_{k}^{\\prime}$:上行带宽与交叉口相位的右侧交点\n",
    "\n",
    "- $\\bar{A}_{k}$：表示下行带宽所处红灯结束（绿灯开始时间）点位\n",
    "\n",
    "-  $\\bar{B}_{k}$: 表示下行带宽所处绿灯结束（红灯开始时间）点位\n",
    "\n",
    "- $\\bar{A}_{k}^{\\prime}$:下行带宽与交叉口相位的左侧交点\n",
    "\n",
    "- $\\bar{B}_{k}^{\\prime}$:下行带宽与交叉口相位的右侧交点\n",
    "$$\\begin{cases}\n",
    "A_{k,v}=\\theta_k+rs_k\\\\\n",
    "B_{k,v}=\\theta_k+r_k+gs_k\\\\\n",
    "A_{k,v}^{\\prime}=max\\{A_{k-1,v}^{\\prime}+d_{k-1}/v*z_k-M*(1-p_k),A_{k,v}+\\tau_k+n_{k,v}\\}\\\\\n",
    "B_{k,v}^{\\prime}=min\\{B_{k-1,v}^{\\prime}+d_{k-1}/v*z_k+M*(1-p_k),B_{k,v}+n_{k,v}\\}\\\\\n",
    "\\bar{A}_{k}=\\theta_k+\\bar{rs}_k+\\Delta_k\\\\\n",
    "\\bar{B}_{k}=\\theta_k+\\bar{rs}_k+\\bar{gs}_k+\\Delta_k\\\\\n",
    "\\bar{A}_{k,v}^{\\prime}=max\\{\\bar{A}_{k+1,v}^{\\prime}+d_{k}/v*z_k-M*(1-p_k),\\bar{A}_{k,v}+\\bar{\\tau}_k+\\bar{n}_{k,v}\\}\\\\\n",
    "\\bar{B}_{k,v}^{\\prime}=min\\{\\bar{B}_{k+1,v}^{\\prime}+d_{k}/v*z_k+M*(1-p_k),\\bar{B}_{k,v}+\\bar{n}_{k,v}\\}\n",
    "\\end{cases}\n",
    "$$\n"
   ]
  },
  {
   "cell_type": "code",
   "execution_count": null,
   "metadata": {},
   "outputs": [],
   "source": [
    "def add_var_on_cons(A, B, o, r, g, t, n, k, end, yp, px, p,pc,C,onbound):\n",
    "    if k>=end:\n",
    "        model.add_constraint(pc[k-1]==yp[k-1])\n",
    "        return onbound\n",
    "    else:\n",
    "        A1=model.continuous_var(lb=0,ub=100)\n",
    "        model.add_if_then(p[k]==1,A1==o[k]+r[k]+n[k]+px[k])\n",
    "        model.add_if_then(p[k]==0,A1==model.max(A+t[k-1],o[k]+r[k]+n[k]+px[k]))\n",
    "        # model.add_constraint(A1==model.max(A+t[k-1]-M*p[k],o[k]+r[k]+n[k]+px[k]))\n",
    "        # model.add_constraints([A1<=o[k]+r[k]+n[k]+px[k]+M*(1-p[k]),A1>=o[k]+r[k]+n[k]+px[k]-M*(1-p[k]),\n",
    "        # A1<=model.max(A+t[k-1],o[k]+r[k]+n[k]+px[k])+M*p[k],A1>=model.max(A+t[k-1],o[k]+r[k]+n[k]+px[k])-M*p[k]])\n",
    "        \n",
    "        B1=model.continuous_var(lb=0,ub=100)\n",
    "        model.add_if_then(p[k]==1,B1==o[k]+r[k]+n[k]+g[k])\n",
    "        model.add_if_then(p[k]==0,B1==model.min(B+t[k-1], o[k]+r[k]+n[k]+g[k]))\n",
    "        # model.add_constraint(B1==model.min(B+t[k-1]+M*p[k], o[k]+r[k]+n[k]+g[k]))\n",
    "        # model.add_constraints([B1<=o[k]+r[k]+n[k]+g[k]+M*(1-p[k]),B1>=o[k]+r[k]+n[k]+g[k]-M*(1-p[k]),\n",
    "        # A1<=model.min(B+t[k-1], o[k]+r[k]+n[k]+g[k])+M*p[k],A1>=model.min(B+t[k-1], o[k]+r[k]+n[k]+g[k])-M*p[k]])\n",
    "            # A1=o[k]+r[k]+n[k]+px[k]\n",
    "            # B1=o[k]+r[k]+n[k]+g[k]\n",
    "            # A1=model.max(A+t[k-1],o[k]+r[k]+n[k]+px[k])\n",
    "            # B1=model.min(B+t[k-1], o[k]+r[k]+n[k]+g[k])\n",
    "\n",
    "        model.add_if_then(pc[k]==1,C[k]==B1-A1)\n",
    "        model.add_if_then(pc[k]==0,C[k]==0)\n",
    "        # model.add_constraints([C[k]<=(B1-A1)+(1-pc[k]),C[k]>=(B1-A1)-M*(1-pc[k]),C[k]>=-M*pc[k],C[k]<=M*pc[k]])\n",
    "\n",
    "        model.add_constraints([be*z[k]-M*(1-yp[k]) <= B1-A1, B1-A1 <= g[k]+M*(1-yp[k])])\n",
    "        model.add_constraints([p[k]>=pc[k-1],yp[k-1]>=pc[k-1],pc[k-1]>=p[k]+yp[k-1]-1])\n",
    "        onbound.append([A1,B1,B1-A1])\n",
    "        return add_var_on_cons(A1, B1, o, r, g, t, n, k+1, end, yp, px, p,pc,C,onbound)\n",
    "\n",
    "def add_var_in_cons(A, B, o, r, g, t, n, k, end, yp, px, p,pc,C):\n",
    "    if k<=end:\n",
    "        model.add_constraint(pc[k+1]==yp[k+1])\n",
    "        return \n",
    "    else:\n",
    "        A1=model.continuous_var(lb=0,ub=100)\n",
    "        model.add_if_then(p[k]==1,A1==o[k]+r[k]+n[k]+px[k])\n",
    "        model.add_if_then(p[k]==0,A1==model.max(A+t[k],o[k]+r[k]+n[k]+px[k]))\n",
    "        # model.add_constraint(A1==model.max(A+t[k],o[k]+r[k]+n[k]+px[k]))\n",
    "        # model.add_constraints([A1<=o[k]+r[k]+n[k]+px[k]+M*(1-p[k]),A1>=o[k]+r[k]+n[k]+px[k]-M*(1-p[k]),\n",
    "        # A1<=model.max(A+t[k],o[k]+r[k]+n[k]+px[k])+M*p[k],A1>=model.max(A+t[k],o[k]+r[k]+n[k]+px[k])-M*p[k]])\n",
    "        \n",
    "        B1=model.continuous_var(lb=0,ub=100)\n",
    "        model.add_if_then(p[k]==1,B1==o[k]+r[k]+n[k]+g[k])\n",
    "        model.add_if_then(p[k]==0,B1==model.min(B+t[k], o[k]+r[k]+n[k]+g[k]))\n",
    "        # model.add_constraint(B1==model.min(B+t[k]+M*p[k], o[k]+r[k]+n[k]+g[k]))\n",
    "        # model.add_constraints([B1<=o[k]+r[k]+n[k]+g[k]+M*(1-p[k]),B1>=o[k]+r[k]+n[k]+g[k]-M*(1-p[k]),\n",
    "        # B1<=model.min(B+t[k], o[k]+r[k]+n[k]+g[k])+M*p[k],B1>=model.min(B+t[k], o[k]+r[k]+n[k]+g[k])-M*p[k]])\n",
    "        # if p[k]==1:\n",
    "        #     A1=o[k]+r[k]+n[k]+px[k]\n",
    "        #     B1=o[k]+r[k]+n[k]+g[k]\n",
    "        # else:\n",
    "        #     A1=model.max(A+t[k],o[k]+r[k]+n[k]+px[k])\n",
    "        #     B1=model.min(B+t[k], o[k]+r[k]+n[k]+g[k])\n",
    "        # A=model.max(A+t[k]-M*p[k], o[k]+r[k]+n[k]+px[k])\n",
    "        # B=model.min(B+t[k]+M*p[k], o[k]+r[k]+g[k]+n[k])\n",
    "        \n",
    "        model.add_constraints([be*z[k]-M*(1-yp[k]) <= B1-A1, B1-A1 <= g[k]+M*(1-yp[k])])\n",
    "        model.add_constraints([p[k]>=pc[k+1],yp[k+1]>=pc[k+1],p[k]+yp[k+1]-1<=pc[k+1]])\n",
    "\n",
    "        model.add_if_then(pc[k]==1,C[k]==B1-A1)\n",
    "        model.add_if_then(pc[k]==0,C[k]==0)\n",
    "        # model.add_constraints([C[k]<=(B1-A1)+(1-pc[k]),C[k]>=(B1-A1)-M*(1-pc[k]),C[k]>=-M*pc[k],C[k]<=M*pc[k]])\n",
    "        return add_var_in_cons(A1, B1, o, r, g, t, n, k-1, end, yp, px, p,pc,C)"
   ]
  },
  {
   "cell_type": "code",
   "execution_count": null,
   "metadata": {},
   "outputs": [],
   "source": [
    "sum_on=0\n",
    "sum_in=0\n",
    "onbound_x=[]\n",
    "for i,v in enumerate(linspace):\n",
    "    A_on_0=o[0]+srf[0,0]\n",
    "    B_on_0=o[0]+srf[0,0]+sg[0,0]\n",
    "    model.add_if_then(pc[0,0,i]==1,C[0,0,i]==B_on_0-A_on_0)\n",
    "    model.add_if_then(pc[0,0,i]==0,C[0,0,i]==0)\n",
    "    # model.add_constraints([C[0,0,i]<=(B_on_0-A_on_0)+M*(1-pc[0,0,i]),C[0,0,i]>=(B_on_0-A_on_0)-M*(1-pc[0,0,i]),\n",
    "    # C[0,0,i]>=-M*pc[0,0,i],C[0,0,i]<=M*pc[0,0,i]])\n",
    "    onb=add_var_on_cons(\n",
    "        A=A_on_0,\n",
    "        B=B_on_0,\n",
    "        o=o,\n",
    "        r=srf[0],\n",
    "        g=sg[0],\n",
    "        t=np.array([d[j]/v*z[j] for j in range(num-1)]),\n",
    "        n=np.array([nt[0,j,i] for j in range(num)]),\n",
    "        k=1,\n",
    "        end=num,\n",
    "        yp=np.array([yp[0,j,i] for j in range(num)]),\n",
    "        px=px[0],\n",
    "        p=np.array([p[k] for k in range(num)]),\n",
    "        pc=np.array([pc[0,j,i] for j in range(num)]),\n",
    "        C=[C[0,k,i] for k in range(num)],\n",
    "        onbound=[[o[0]+srf[0,0],o[0]+srf[0,0]+sg[0,0],o[0]+sg[0,0]]]\n",
    "    )\n",
    "    sum_on+=model.sum([C[0,k,i]*vol[0,k] for k in range(num)])*ProDistribution[i]\n",
    "    onbound_x.append(onb)\n",
    "    \n",
    "    A_in_0=o[num-1]+srf[1,num-1]\n",
    "    B_in_0=o[num-1]+srf[1,num-1]+sg[1,num-1]\n",
    "    model.add_if_then(pc[1,num-1,i]==1,C[1,num-1,i]==B_on_0-A_on_0)\n",
    "    model.add_if_then(pc[1,num-1,i]==0,C[1,num-1,i]==0)\n",
    "    # model.add_constraints([C[1,num-1,i]<=(B_in_0-A_in_0)+M*(1-pc[1,num-1,i]),C[1,num-1,i]>=(B_in_0-A_in_0)-M*(1-pc[1,num-1,i]),\n",
    "    # C[1,num-1,i]>=-M*pc[1,num-1,i],C[1,num-1,i]<=M*pc[1,num-1,i]])\n",
    "    add_var_in_cons(\n",
    "        A=A_in_0,\n",
    "        B=B_in_0,\n",
    "        o=o,\n",
    "        r=srf[1],\n",
    "        g=sg[1],\n",
    "        t=np.array([d[j]/v*z[j] for j in range(num-1)]),\n",
    "        n=np.array([nt[1,j,i] for j in range(num)]),\n",
    "        k=num-2,\n",
    "        end=-1,\n",
    "        yp=np.array([yp[1,j,i] for j in range(num)]),\n",
    "        px=px[1],\n",
    "        p=p,\n",
    "        pc=np.array([pc[1,j,i] for j in range(num)]),\n",
    "        C=[C[1,k,i] for k in range(num)],       \n",
    "    )\n",
    "    sum_in+=model.sum([C[1,k,i]*vol[1,k] for k in range(num)])*ProDistribution[i]"
   ]
  },
  {
   "cell_type": "markdown",
   "metadata": {},
   "source": [
    "为避免某些速度下无法取得有效带宽，进而影响其他速度下的带宽，可尽量\n",
    "$$\n",
    "\\eta_{k,v}=\\begin{cases}\n",
    "1,&\\text{如果速度$v$在交叉口$k$下能够获得有效带宽}\\\\\n",
    "0,& \\text{其他}\n",
    "\\end{cases}\n",
    "$$\n",
    "$$\n",
    "\\begin{cases}\n",
    "be*z_k-M(1-\\eta_{k,v})\\leq B^{\\prime}_{k,v} -A ^{\\prime}_{k,v} \\leq \\eta_{k,v}+M*(1-\\eta_{k,v})\\\\\n",
    "be*z_k-M(1-\\bar{\\eta}_{k,v})\\leq B^{\\prime}_{k,v} -A ^{\\prime}_{k,v} \\leq \\bar{\\eta}_{k,v}+M*(1-\\bar{\\eta}_{k,v})\n",
    "\\end{cases}\n",
    "$$"
   ]
  },
  {
   "cell_type": "markdown",
   "metadata": {},
   "source": [
    "为了保证带宽式中为正，应确保点$B^{\\prime}_k(\\bar{B}^{\\prime}_k)$始终处于点$A^{\\prime}_k(\\bar{A}^{\\prime}_k)$的右侧，约束表示为：\n",
    "$$\n",
    "\\begin{cases}\n",
    "-M*(1-\\eta_{k,v})\\leq B^{\\prime}_{k,v}-A^{\\prime}_{k,v}\\leq g_{k}+M*(1-\\eta_{k,v})\\\\\n",
    "-M*(1-\\bar{\\eta}_{k,v} )\\leq\\bar{B}^{\\prime}_{k,v}-\\bar{A}^{\\prime}_{k,v} \\leq \\bar{g}_k+M*(1-\\bar{\\eta}_{k,v})\n",
    "\\end{cases}\n",
    "$$\n",
    "$$\n",
    "\\begin{cases}\n",
    "b_{k,v}=B_{k,v}^{\\prime}-A_{k,v}^{\\prime},& k=1,2,...,n,&v \\in \\Omega_v \\\\\n",
    "\\bar{b}_{k,v}=\\bar{B}_{k,v}^{\\prime}-\\bar{A}_{k,v}^{\\prime},& k=0,1,...,n-1,&v \\in \\Omega_v\n",
    "\\end{cases}\n",
    "$$\n",
    "$$\n",
    "\\begin{cases}\n",
    "-Mp_{k+1}\\leq\\eta_{k,v}-\\eta_{k+1,v}\\leq Mp_{k+1}\\\\\n",
    "-Mp_{k}\\leq\\bar{\\eta}_{k,v}-\\bar{\\eta}_{k+1,v}\\leq Mp_{k}\n",
    "\\end{cases}\n",
    "$$"
   ]
  },
  {
   "cell_type": "code",
   "execution_count": null,
   "metadata": {},
   "outputs": [],
   "source": [
    "for k in range(num-1):\n",
    "    for v in range(lin_num):\n",
    "        model.add_constraints([-M*p[k+1] <= yp[0, k, v]-yp[0, k+1, v], yp[0, k, v]-yp[0, k+1, v] <= M*p[k+1]])\n",
    "        model.add_constraints([-M*p[k] <= yp[1, k, v]-yp[1, k+1, v], yp[1, k, v]-yp[1, k+1, v] <= M*p[k]])\n"
   ]
  },
  {
   "attachments": {},
   "cell_type": "markdown",
   "metadata": {},
   "source": [
    "## 长干道目标构建"
   ]
  },
  {
   "attachments": {},
   "cell_type": "markdown",
   "metadata": {},
   "source": [
    "目标函数包括三部分：\n",
    "- 最大化每条路径各交叉口的的绿波带宽。\n",
    "- 最小化分割点停车等待时间。\n",
    "- 最小化分割次数，并限制分割点流量。\n",
    "$$\n",
    "MAX:\\sum_{i=1}^{I}\\left(\\omega_1\\sum_{k=1}^{\\Omega_i}\\left(q_{i}b_{i,k}+\\bar{q}_{i}\\bar{b}_{i,k} \\right)-\\omega_2\n",
    "\\sum_{k=1}^{\\Omega_i}\\left(q_{i}\\mu_{i,k}+\\bar{q}_{i}\\bar{\\mu}_{i,k}\\right)\\right)-\\omega_3\\sum_{k=1}^{\\Omega_i}\\left(p_k\\left(Q_k+\\bar{Q}_k\\right)\\right)\n",
    "$$"
   ]
  },
  {
   "cell_type": "markdown",
   "metadata": {},
   "source": [
    "速度波动目标函数为\n",
    "$$\n",
    "MAX: \\sum_{v\\in\\Omega}\\left(\\omega_1\\sum_{k=1}^{I}Q_kp_k\\eta_{k,v}(B^{\\prime}_{k,v}-A^{\\prime}_{k,v})+\\bar{Q}_kp_k\\bar{\\eta}_{k,v}(\\bar{B}^{\\prime}_{k,v}-\\bar{A}^{\\prime}_{k,v})\\right)\n",
    "$$"
   ]
  },
  {
   "cell_type": "code",
   "execution_count": null,
   "metadata": {},
   "outputs": [],
   "source": [
    "sum_b = model.sum([qv[i] * b[i, k] for i in range(numr) for k in range(num)])\n",
    "sum_u = model.sum([qv[i] * u[i, k] for i in range(numr) for k in range(num)])\n",
    "sum_p = model.sum([p[k] * (vol[0, k] + vol[1, k]) for k in range(num)])\n",
    "sum_split=sum_b*5-sum_u*4-sum_p*2\n",
    "sum_v=sum_in+sum_on"
   ]
  },
  {
   "cell_type": "code",
   "execution_count": null,
   "metadata": {},
   "outputs": [],
   "source": [
    "refiner=ConflictRefiner()\n",
    "res=refiner.refine_conflict(model)\n",
    "res.display()"
   ]
  },
  {
   "cell_type": "code",
   "execution_count": 25,
   "metadata": {},
   "outputs": [],
   "source": [
    "# model.maximize(sum_var)\n",
    "model.set_multi_objective(\"max\",[sum_split,sum_v],priorities=[1,0],weights=[1,1])\n",
    "# model.set_multi_objective(\"max\",[sum_split],priorities=[2])\n",
    "sol = model.solve(log_output=True)\n",
    "print(sol.solve_details)\n",
    "sol.objective_value"
   ]
  },
  {
   "cell_type": "code",
   "execution_count": null,
   "metadata": {},
   "outputs": [],
   "source": [
    "z = sol.get_value_dict(z)\n",
    "t = sol.get_value_dict(t)\n",
    "p = sol.get_value_dict(p)\n",
    "y = sol.get_value_dict(y)"
   ]
  },
  {
   "attachments": {},
   "cell_type": "markdown",
   "metadata": {},
   "source": [
    "## 获取结果"
   ]
  },
  {
   "cell_type": "code",
   "execution_count": null,
   "metadata": {},
   "outputs": [],
   "source": [
    "o = sol.get_value_dict(o)\n",
    "w = sol.get_value_dict(w)\n",
    "n = sol.get_value_dict(n)\n",
    "u = sol.get_value_dict(u)\n",
    "b = sol.get_value_dict(b)\n",
    "yp = sol.get_value_dict(yp)\n",
    "pc=sol.get_value_dict(pc)\n",
    "nt=sol.get_value_dict(nt)\n",
    "C=sol.get_value_dict(C)"
   ]
  },
  {
   "cell_type": "code",
   "execution_count": null,
   "metadata": {},
   "outputs": [],
   "source": [
    "Df=[[i for i in range(1,num+1)]]\n",
    "Df+=[[d[i] for i in range(num-1)] + [np.nan]]\n",
    "Df+=[[b[i,k] for k in range(num)] for i in range(numr)]\n",
    "Df+=[[o[k] for k in range(num)]]\n",
    "Df+=[[p[k] for k in range(num)]]\n",
    "Df+=[[t[i,k] for k in range(num-1)]+[np.nan] for i in range(2)]\n",
    "Df+=[[y[i,k] for k in range(num)] for i in range(numr)]\n",
    "Df+=[[1/z[k] for k in range(num)]]\n",
    "Df+=[[u[i,k] for k in range(num)] for i in range(numr)]\n",
    "# Df+=[[yp[i,k,j] for k in range(num)] for j in range(lin_num) for i in range(2)]\n",
    "Df=np.array(Df)\n",
    "Df=Df.T\n",
    "Df=pd.DataFrame(Df)\n",
    "cols=[\"cross_number\"]\n",
    "cols+=[\"distance\"]\n",
    "cols+=[\"b\"+str(i) for i in range(1,numr+1)]\n",
    "cols+=[\"offset\",\"p\"]\n",
    "cols+=[\"t\"+str(i) for i in range(1,3)]\n",
    "cols+=[\"y\"+str(i) for i in range(1,numr+1)]\n",
    "cols+=[\"z\"]\n",
    "cols+=[\"u\"+str(i) for i in range(1,numr+1)]\n",
    "# cols+=[\"yp_on_\"+str(i) for i in range(1,lin_num+1)]\n",
    "# cols+=[\"yp_in_\"+str(i) for i in range(1,lin_num+1)]\n",
    "Df.columns=cols\n",
    "\n",
    "Df[\"offset\"] = Df.offset * Df.z\n",
    "Df[\"t1\"] = Df.t1 * Df.z\n",
    "Df[\"t2\"] = Df.t2 * Df.z\n",
    "Df[\"b1\"] = Df.b1 * Df.z\n",
    "Df[\"b2\"] = Df.b2 * Df.z\n",
    "Df[\"b3\"] = Df.b3 * Df.z\n",
    "Df[\"b4\"] = Df.b4 * Df.z\n",
    "Df[\"b5\"] = Df.b5 * Df.z\n",
    "Df[\"b6\"] = Df.b6 * Df.z\n",
    "Df.round(2)"
   ]
  },
  {
   "cell_type": "code",
   "execution_count": null,
   "metadata": {},
   "outputs": [],
   "source": [
    "Df[[\"b\"+str(i) for i in range(1,numr+1)]+[\"z\",\"p\"]]"
   ]
  },
  {
   "attachments": {},
   "cell_type": "markdown",
   "metadata": {},
   "source": [
    "# 绘制图像"
   ]
  },
  {
   "attachments": {},
   "cell_type": "markdown",
   "metadata": {},
   "source": [
    "## 绘制路径图像"
   ]
  },
  {
   "cell_type": "code",
   "execution_count": null,
   "metadata": {},
   "outputs": [],
   "source": [
    "def data_formater(data, last_data, cross_num):\n",
    "    while data < last_data:\n",
    "        data += Df.z[cross_num]\n",
    "    return data\n",
    "\n",
    "def onbound(b, car_t, t, dis, distance):\n",
    "    zip_x = [car_t,car_t + b,car_t + t + b,car_t + t,]\n",
    "    zip_y = [dis, dis, dis + distance, dis + distance]\n",
    "    return zip_x, zip_y\n",
    "\n",
    "def inbound(b, car_t, t, dis, distance):\n",
    "\n",
    "    zip_x = [\n",
    "        car_t + t,\n",
    "        car_t + t + b,\n",
    "        car_t + b,\n",
    "        car_t,\n",
    "    ]\n",
    "    zip_y = [dis - distance, dis - distance, dis, dis]\n",
    "    return zip_x, zip_y"
   ]
  },
  {
   "cell_type": "code",
   "execution_count": null,
   "metadata": {},
   "outputs": [],
   "source": [
    "Df2 = Df.copy()\n",
    "Df2[\"w1\"] = [w[0, k] for k in range(num)]\n",
    "Df2[\"w2\"] = [w[1, k] for k in range(num)]\n",
    "Df2[\"w3\"] = [w[2, k] for k in range(num)]\n",
    "Df2[\"w4\"] = [w[3, k] for k in range(num)]\n",
    "Df2[\"w5\"] = [w[4, k] for k in range(num)]\n",
    "Df2[\"w6\"] = [w[5, k] for k in range(num)]\n",
    "Df2[\"u1\"] = np.array([u[0, k] for k in range(num)]) * Df.z\n",
    "Df2[\"u2\"] = np.array([u[1, k] for k in range(num)]) * Df.z\n",
    "Df2[\"u3\"] = np.array([u[2, k] for k in range(num)]) * Df.z\n",
    "Df2[\"u4\"] = np.array([u[3, k] for k in range(num)]) * Df.z\n",
    "Df2[\"u5\"] = np.array([u[4, k] for k in range(num)]) * Df.z\n",
    "Df2[\"u6\"] = np.array([u[5, k] for k in range(num)]) * Df.z\n",
    "\n",
    "Df2[\"car_t1\"] =Df2.offset + rf[0] * Df2.z  +Df2.w1 * Df2.z - Df2.b1 / 2 \n",
    "Df2[\"car_t2\"] =Df2.offset+ rf[1] * Df2.z+ Df2.w2 * Df2.z- Df2.b2 / 2\n",
    "\n",
    "Df2[\"car_t3\"] =Df2.offset+ rf[2] * Df2.z + Df2.w3 * Df2.z - Df2.b3 / 2\n",
    " \n",
    "Df2[\"car_t4\"] =Df2.offset + rf[3] * Df2.z +Df2.w4 * Df2.z - Df2.b4 / 2 \n",
    "Df2[\"car_t5\"] =Df2.offset + rf[4] * Df2.z + Df2.w5 * Df2.z - Df2.b5 / 2 \n",
    "Df2[\"car_t6\"] =Df2.offset + rf[5] * Df2.z + Df2.w6 * Df2.z - Df2.b6 / 2\n",
    "\n",
    "Df3=Df2.copy()\n",
    " "
   ]
  },
  {
   "cell_type": "code",
   "execution_count": null,
   "metadata": {},
   "outputs": [],
   "source": [
    "green_time=np.array([phase[:, j] * Df2.z for j in range(numr)])"
   ]
  },
  {
   "cell_type": "code",
   "execution_count": null,
   "metadata": {},
   "outputs": [],
   "source": [
    "# color = [\"red\", \"darkgray\", \"cyan\", \"g\", \"slateblue\", \"yellow\"]\n",
    "Df2=Df3.copy()\n",
    "fig1 = plt.figure(figsize=(20, 20), dpi=300)\n",
    "ax1 = fig1.add_subplot()\n",
    "legends = [\"1->15\", \"1->6\", \"8->15\", \"15->2\", \"14->9\", \"7->1\"]\n",
    "color = [\n",
    "    {\"color\":\"white\" , \"hatch\": \"|||||\", \"fill\": True},\n",
    "    {\"color\":\"white\", \"hatch\":\"\\\\\\\\\\\\\\\\\\\\\" , \"fill\": False},\n",
    "    {\"color\": \"white\", \"hatch\":\"xxxxx\" , \"fill\": True},\n",
    "    {\"color\":\"white\", \"hatch\": None, \"fill\": False},\n",
    "    {\"color\": \"white\", \"hatch\": \"////\", \"fill\": False},\n",
    "    {\"color\": \"white\", \"hatch\": \"//\", \"fill\": False}\n",
    "]\n",
    "Df2.car_t1 += Df2.z\n",
    "Df2.car_t2 += Df2.z * 2\n",
    "Df2.car_t3 += Df2.z * 3\n",
    "for i in range(1, num):\n",
    "    Df2.loc[i, \"car_t1\"] = data_formater(Df2.car_t1[i], Df2.car_t1[i - 1], i)\n",
    "    Df2.loc[i, \"car_t2\"] = data_formater(Df2.car_t2[i], Df2.car_t2[i - 1], i)\n",
    "    Df2.loc[i, \"car_t3\"] = data_formater(Df2.car_t3[i], Df2.car_t3[i - 1], i)\n",
    "\n",
    "# Df2.car_t5 += Df2.z\n",
    "# Df2.car_t6 += Df2.z * 2\n",
    "for i in range(num - 1, 0, -1):\n",
    "    Df2.loc[i - 1, \"car_t4\"] = data_formater(Df2.car_t4[i - 1], Df2.car_t4[i], i - 1)\n",
    "    Df2.loc[i - 1, \"car_t5\"] = data_formater(Df2.car_t5[i - 1], Df2.car_t5[i], i - 1)\n",
    "    Df2.loc[i - 1, \"car_t6\"] = data_formater(Df2.car_t6[i - 1], Df2.car_t6[i], i - 1)\n",
    "\n",
    "max_width =max(Df2[[\"car_t1\", \"car_t2\", \"car_t3\", \"car_t4\", \"car_t5\", \"car_t6\"]].max())+Df2.z.max()\n",
    "\n",
    "max_hight = sum(Df.distance[0 : num - 1]) + 100\n",
    "print(max_width,max_width/Df.z[0])\n",
    "legendc = dict()\n",
    "for i in range(0, num):\n",
    "    offset_r = Df2.offset[i] - Df2.z[i]\n",
    "    sum_dis = sum(Df2.distance[0:i])\n",
    "    while offset_r < max_width:\n",
    "        for j in range(0, len(green_time)):\n",
    "            if green_time[j,i] == 0:\n",
    "                continue\n",
    "            else:\n",
    "                if phase_get[0,i,j]==1:\n",
    "                    ax1.add_patch(\n",
    "                        plt.Rectangle(\n",
    "                            (offset_r, sum(Df2.distance[0:i])),\n",
    "                            green_time[j, i],\n",
    "                            20,\n",
    "                            facecolor=\"green\",\n",
    "                            hatch=color[j][\"hatch\"],\n",
    "                            fill=True,\n",
    "                            edgecolor='black',\n",
    "                            linewidth=0.5\n",
    "                        )\n",
    "                    )\n",
    "                else:\n",
    "                    ax1.add_patch(\n",
    "                        plt.Rectangle(\n",
    "                            (offset_r, sum(Df2.distance[0:i])),\n",
    "                            green_time[j, i],\n",
    "                            20,\n",
    "                            facecolor=color[j][\"color\"],\n",
    "                            hatch=color[j][\"hatch\"],\n",
    "                            fill=color[j][\"fill\"],\n",
    "                            edgecolor='black',\n",
    "                            linewidth=0.5\n",
    "                        )\n",
    "                    )\n",
    "                offset_r += green_time[j,i]\n",
    "    ax1.text(10, sum(Df2.distance[0:i]) + 25, str(i + 1), fontsize=12)\n",
    "    \n",
    "plt.plot([0, 0], [0, max_hight])\n",
    "for i in range(0, num):\n",
    "    dis = sum(Df2.distance[0:i])\n",
    "    if Df2.b1[i] == 0:\n",
    "        continue\n",
    "    else:\n",
    "        zip_x, zip_y = onbound(Df2.b1[i], Df2.car_t1[i], Df2.t1[i], dis, Df2.distance[i])\n",
    "        onbound1 = ax1.add_patch(pch.Polygon(xy=list(zip(zip_x, zip_y)), fill=False,linewidth=1))\n",
    "\n",
    "# for i in range(0, num):\n",
    "#     dis = sum(Df2.distance[0:i])\n",
    "#     if Df2.b2[i] == 0:\n",
    "#         continue\n",
    "#     else:\n",
    "#         zip_x, zip_y = onbound(Df2.b2[i], Df2.car_t2[i], Df2.t1[i], dis, Df2.distance[i])\n",
    "#         onbound2 = ax1.add_patch(pch.Polygon(xy=list(zip(zip_x, zip_y)), fill=False,linewidth=1))\n",
    "\n",
    "# for i in range(0, num):\n",
    "#     dis = sum(Df2.distance[0:i])\n",
    "#     if Df2.b3[i] == 0:\n",
    "#         continue\n",
    "#     else:\n",
    "#         zip_x, zip_y = onbound(Df2.b3[i], Df2.car_t3[i], Df2.t1[i], dis, Df2.distance[i])\n",
    "#         onbound3 = ax1.add_patch(pch.Polygon(xy=list(zip(zip_x, zip_y)),fill=False,linewidth=1))\n",
    "# for i in range(1, num):\n",
    "#     dis = sum(Df2.distance[0:i])\n",
    "#     if Df2.b4[i] == 0:\n",
    "#         continue\n",
    "#     else:\n",
    "#         zip_x, zip_y = inbound(Df2.b4[i], Df2.car_t4[i], Df2.t2[i - 1], dis, Df2.distance[i - 1])\n",
    "#         inbound1 = ax1.add_patch(pch.Polygon(xy=list(zip(zip_x, zip_y)),fill=False,linewidth=1))\n",
    "\n",
    "# for i in range(1, num):\n",
    "#     dis = sum(Df2.distance[0:i])\n",
    "#     if Df2.b5[i] == 0:\n",
    "#         continue\n",
    "#     else:\n",
    "#         zip_x, zip_y = inbound(Df2.b5[i], Df2.car_t5[i], Df2.t2[i - 1], dis, Df2.distance[i - 1])\n",
    "#         inbound2 = ax1.add_patch(pch.Polygon(xy=list(zip(zip_x, zip_y)),fill=False,linewidth=1))\n",
    "\n",
    "# for i in range(1, num):\n",
    "#     dis = sum(Df2.distance[0:i])\n",
    "#     if Df2.b6[i] == 0:\n",
    "#         continue\n",
    "#     else:\n",
    "#         zip_x, zip_y = inbound(Df2.b6[i], Df2.car_t6[i], Df2.t2[i-1], dis, Df2.distance[i - 1])\n",
    "#         inbound3 = ax1.add_patch(pch.Polygon(xy=list(zip(zip_x, zip_y)),fill=False,linewidth=1))\n",
    "plt.xlim([0,max_width,])\n",
    "plt.ylim(0, sum(Df.distance[0 : num - 1]) + 100)\n",
    "# ax2.set_xticks([])\n",
    "# ax2.set_yticks([])\n",
    "ax1.set_xticks([])\n",
    "ax1.set_yticks([])\n",
    "# ax1.legend(\n",
    "#     handles=[onbound1, onbound2, onbound3, inbound1, inbound2, inbound3],\n",
    "#     labels=[\"path{}:\".format(i) + legends[i - 1] for i in range(1, 7)],\n",
    "#     fontsize=18,\n",
    "#     loc=\"center right\",\n",
    "# )\n",
    "# fig1.savefig(\n",
    "#     r\"./时距图\", bbox_inches=\"tight\"\n",
    "# )"
   ]
  },
  {
   "attachments": {},
   "cell_type": "markdown",
   "metadata": {},
   "source": [
    "## 绘制速度波动图像"
   ]
  },
  {
   "attachments": {},
   "cell_type": "markdown",
   "metadata": {},
   "source": [
    "##### 临时计算方式"
   ]
  },
  {
   "cell_type": "code",
   "execution_count": null,
   "metadata": {},
   "outputs": [],
   "source": [
    "def get_var_on_cons(A, B, o, r, g, t, n, k, end, yp, px, p, sum_on,rho,pc,onbound,idx):\n",
    "    if k>=end:\n",
    "        return sum_on,onbound\n",
    "    else:\n",
    "        A1=max(A+t[k-1]-M*p[k],o[k]+r[k]+n[k]+px[k])\n",
    "        B1=min(B+t[k-1]+M*p[k], o[k]+r[k]+n[k]+g[k])\n",
    "        sum_on+=pc[k]*vol[0,k]*(B1-A1)\n",
    "        onbound.append([A1,B1,B1-A1,A+t[k-1]-M*p[k],o[k]+r[k]+n[k]+px[k],B+t[k-1]+M*p[k], o[k]+r[k]+n[k]+g[k]])\n",
    "        return get_var_on_cons(A1, B1, o, r, g, t, n, k+1, end, yp, px, p, sum_on,rho,pc,onbound,i)"
   ]
  },
  {
   "cell_type": "code",
   "execution_count": null,
   "metadata": {},
   "outputs": [],
   "source": [
    "sum_on=0\n",
    "sum_in=0\n",
    "onbound2=[]\n",
    "for i,v in enumerate(linspace):\n",
    "    tmp,onb=get_var_on_cons(\n",
    "        A=o[0]+srf[0,0],\n",
    "        B=o[0]+srf[0,0]+sg[0,0],\n",
    "        o=o,\n",
    "        r=srf[0],\n",
    "        g=sg[0],\n",
    "        t=np.array([d[j]/v*z[j] for j in range(num-1)]),\n",
    "        n=np.array([nt[0,j,i] for j in range(num)]),\n",
    "        k=1,\n",
    "        end=num,\n",
    "        yp=np.array([yp[0,j,i] for j in range(num)]),\n",
    "        px=px[0],\n",
    "        p=np.array([p[k] for k in range(num)]),\n",
    "        sum_on=sum_on,\n",
    "        rho=rho,\n",
    "        pc=np.array([pc[0,j,i] for j in range(num)]),\n",
    "        onbound=[[o[0]+srf[0,0],o[0]+srf[0,0]+sg[0,0],o[0]+sg[0,0],o[0]+srf[0,0],o[0]+srf[0,0],o[0]+srf[0,0]+sg[0,0],o[0]+srf[0,0]+sg[0,0]]],\n",
    "        idx=i\n",
    "    )\n",
    "    sum_on+=tmp*ProDistribution[i]\n",
    "    onbound2.append(onb)"
   ]
  },
  {
   "cell_type": "code",
   "execution_count": null,
   "metadata": {},
   "outputs": [],
   "source": [
    "onbound2=np.array(onbound2)"
   ]
  },
  {
   "cell_type": "code",
   "execution_count": null,
   "metadata": {},
   "outputs": [],
   "source": [
    "bound1=pd.DataFrame(onbound2[0])\n",
    "bound1.columns=[\"A\",\"B\",\"B-A\",\"Al\",\"Ar\",\"Bl\",\"Br\"]\n",
    "bound1[\"t\"]=[d[j]/linspace[0]*z[j] for j in range(num-1)]+[np.nan]\n",
    "bound1[\"pc\"]=[pc[0,i,0] for i in range(num)]\n",
    "bound1[\"p\"]=[p[i] for i in range(num)]\n",
    "bound1[\"yp\"]=[yp[0,i,0] for  i in range(num)]\n",
    "bound1[\"Bl-Ar\"]=bound1[[\"Bl\",\"Br\"]].min(axis=1)-bound1[[\"Al\",\"Ar\"]].max(axis=1)\n",
    "bound1[\"B-A_\"]=bound1[\"B\"]-bound1[\"A\"]\n",
    "bound1[\"Al+t\"]=bound1[\"A\"]+bound1[\"t\"]"
   ]
  },
  {
   "cell_type": "code",
   "execution_count": null,
   "metadata": {},
   "outputs": [],
   "source": [
    "bound1"
   ]
  },
  {
   "attachments": {},
   "cell_type": "markdown",
   "metadata": {},
   "source": [
    "#### 当前计算方式"
   ]
  },
  {
   "cell_type": "code",
   "execution_count": null,
   "metadata": {},
   "outputs": [],
   "source": [
    "onbound3=[]\n",
    "for i in range(lin_num):\n",
    "    tmp=[]\n",
    "    for k in range(num):\n",
    "        tmp.append([sol.get_value(onbound_x[i][k][0]),sol.get_value(onbound_x[i][k][1]),sol.get_value(onbound_x[i][k][2])])\n",
    "    onbound3.append(tmp)"
   ]
  },
  {
   "cell_type": "code",
   "execution_count": null,
   "metadata": {},
   "outputs": [],
   "source": [
    "bod=pd.DataFrame(onbound3[0])\n",
    "bod.columns=[\"A\",\"B\",\"B-A\"]\n",
    "bod[\"C\"]=[C[0,k,0] for k in range(num)]\n",
    "bod[\"pc\"]=[pc[0,i,0] for i in range(num)]\n",
    "bod[\"p\"]=[p[i] for i in range(num)]\n",
    "bod[\"yp\"]=[yp[0,i,0] for  i in range(num)]"
   ]
  },
  {
   "cell_type": "code",
   "execution_count": null,
   "metadata": {},
   "outputs": [],
   "source": [
    "bod.round(2)"
   ]
  },
  {
   "cell_type": "code",
   "execution_count": null,
   "metadata": {},
   "outputs": [],
   "source": []
  }
 ],
 "metadata": {
  "kernelspec": {
   "display_name": "cplex",
   "language": "python",
   "name": "python3"
  },
  "language_info": {
   "codemirror_mode": {
    "name": "ipython",
    "version": 3
   },
   "file_extension": ".py",
   "mimetype": "text/x-python",
   "name": "python",
   "nbconvert_exporter": "python",
   "pygments_lexer": "ipython3",
   "version": "3.7.11"
  },
  "orig_nbformat": 4,
  "vscode": {
   "interpreter": {
    "hash": "7394a20464bfa482dd07f61af22adbf437c72944e505bfcd6e11eb225ca9c49b"
   }
  }
 },
 "nbformat": 4,
 "nbformat_minor": 2
}
