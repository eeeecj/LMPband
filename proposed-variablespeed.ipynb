{
 "cells": [
  {
   "cell_type": "code",
   "execution_count": 1,
   "metadata": {},
   "outputs": [],
   "source": [
    "import pandas as pd\n",
    "import cvxpy as cp\n",
    "import numpy as np\n",
    "import docplex.mp.model as md\n"
   ]
  },
  {
   "attachments": {},
   "cell_type": "markdown",
   "metadata": {},
   "source": [
    "# 加载数据\n"
   ]
  },
  {
   "cell_type": "code",
   "execution_count": 2,
   "metadata": {},
   "outputs": [],
   "source": [
    "\n",
    "# phase = np.loadtxt(\"phase\")\n",
    "# cir=phase[0].sum()\n",
    "# phase=phase/cir\n",
    "# vol = np.loadtxt(\"volume\")\n",
    "# qv = np.loadtxt(\"path_vol\")\n",
    "# phase_get = np.load(\"phase_get.npy\")\n",
    "# d = np.loadtxt(\"distance\")\n",
    "# dr = np.loadtxt(\"dr\")\n",
    "# dr=dr/cir\n",
    "# straight_get = np.load(\"straight_get.npy\")\n",
    "ison = np.array([0, 0, 0, 1, 1, 1])\n",
    "# px = np.array([[0, 0, 0, 0, 0, 0, 0, 0, 0, 0, 0, 0, 0, 0, 0],\n",
    "#                [0, 0, 0, 0, 0, 0, 0, 0, 0, 0, 0, 0, 0, 0, 0]])\n",
    "\n",
    "\n",
    "g = np.array(\n",
    "    [\n",
    "        [87, 67, 71, 68, 79, 82, 69, 75, 80, 69, 75, 78, 68, 83, 78],\n",
    "        [87, 67, 71, 68, 79, 40, 0, 0, 0, 0, 0, 0, 0, 0, 0],\n",
    "        [0, 0, 0, 0, 0, 0, 0, 180, 80, 69, 75, 78, 68, 83, 78],\n",
    "        [0, 37, 71, 72, 79, 82, 70, 75, 80, 70, 70, 78, 60, 83, 78],\n",
    "        [0, 0, 0, 0, 0, 0, 0, 0, 180, 70, 70, 78, 60, 25, 0],\n",
    "        [87, 67, 71, 68, 79, 82, 180, 0, 0, 0, 0, 0, 0, 0, 0],\n",
    "    ]\n",
    ")\n",
    "g = g / 180\n",
    "\n",
    "q = np.array([187, 347, 285, 102, 114, 403])\n",
    "Q = np.array(\n",
    "    [\n",
    "        [534, 534, 534, 534, 534, 187, 187, 472, 472, 472, 472, 472, 472, 472, 472],\n",
    "        [403, 403, 505, 505, 505, 505, 102, 102, 102, 214, 214, 214, 214, 102, 102],\n",
    "    ]\n",
    ")\n",
    "\n",
    "dr = np.array(\n",
    "    [\n",
    "        [0, 0, 0, 0, 0, 0, 0, 0, 0, 0, 0, 0, 0, 0, 0],\n",
    "        [0, 0, 0, 0, 0, 40, 0, 0, 0, 0, 0, 0, 0, 0, 0],\n",
    "        [0, 0, 0, 0, 0, 0, 0, 0, 0, 0, 0, 0, 0, 0, 0],\n",
    "        [0, 37, 0, 35, 0, 0, 36, 0, 0, 36, 35, 0, 35, 0, 0],\n",
    "        [0, 0, 0, 0, 0, 0, 0, 0, 0, 36, 35, 0, 35, 32, 0],\n",
    "        [0, 37, 0, 35, 0, 0, 0, 0, 0, 0, 0, 0, 0, 0, 0],\n",
    "    ]\n",
    ")\n",
    "dr = dr / 180\n",
    "\n",
    "d = [236, 457, 346, 227, 226, 236, 200, 135, 117, 402, 404, 403, 354, 234]\n"
   ]
  },
  {
   "attachments": {},
   "cell_type": "markdown",
   "metadata": {},
   "source": [
    "## 速度数据\n"
   ]
  },
  {
   "cell_type": "code",
   "execution_count": 3,
   "metadata": {},
   "outputs": [],
   "source": [
    "lower, upper = 8, 12\n",
    "# linspace = np.arange(lower, upper, 0.5)\n",
    "# lin_num = len(linspace)\n",
    "\n",
    "# # 南北直行方向绿灯时间\n",
    "# sg=np.array([(straight_get[i]*phase).sum(axis=1) for i in range(len(straight_get))])\n",
    "# sr=1-sg"
   ]
  },
  {
   "attachments": {},
   "cell_type": "markdown",
   "metadata": {},
   "source": [
    "## 长干道数据\n"
   ]
  },
  {
   "cell_type": "code",
   "execution_count": 4,
   "metadata": {},
   "outputs": [],
   "source": [
    "rho = vol[0] / vol[1]\n",
    "num = len(vol[0])\n",
    "numr = len(qv)\n",
    "# nump = len(phase_get)\n",
    "M = 100000000\n",
    "nx = 0.00000001\n",
    "be = 8\n",
    "speedScope = np.array([lower, upper])\n",
    "speedVar = np.array([-2, 2])\n",
    "\n",
    "# g=np.array([(phase_get[i]*phase).sum(axis=1) for i in range(numr) ])\n",
    "\n",
    "r=1-g"
   ]
  },
  {
   "attachments": {},
   "cell_type": "markdown",
   "metadata": {},
   "source": [
    "# 定义变量\n"
   ]
  },
  {
   "attachments": {},
   "cell_type": "markdown",
   "metadata": {},
   "source": [
    "### 通用变量"
   ]
  },
  {
   "cell_type": "code",
   "execution_count": 5,
   "metadata": {},
   "outputs": [],
   "source": [
    "# model = md.Model(\"prosmodel\")\n",
    "# Z_list = [(i) for i in range(num)]\n",
    "# z = model.continuous_var_dict(Z_list, lb=1 / 180, ub=1 / 80, name=\"z\")\n",
    "\n",
    "# o_list = [(i) for i in range(num)]\n",
    "# o = model.continuous_var_dict(o_list, lb=0, ub=1, name=\"o\")\n",
    "\n",
    "# t_list = [(i, k) for i in range(2) for k in range(num-1)]\n",
    "# t = model.continuous_var_dict(t_list, lb=0, name=\"t\")\n"
   ]
  },
  {
   "attachments": {},
   "cell_type": "markdown",
   "metadata": {},
   "source": [
    "### 速度波动变量"
   ]
  },
  {
   "cell_type": "code",
   "execution_count": 6,
   "metadata": {},
   "outputs": [],
   "source": [
    "# yp_list=[(i,j,k) for i in range(2) for j in range(num) for k in range(lin_num)]\n",
    "# yp=model.binary_var_dict(yp_list,name=\"yp\")\n",
    "\n",
    "# nt_list = [(i, j, k) for i in range(2) for j in range(num) for k in range(lin_num)]\n",
    "# nt = model.integer_var_dict(nt_list, lb=-1, ub=10, name=\"nt\")\n"
   ]
  },
  {
   "attachments": {},
   "cell_type": "markdown",
   "metadata": {},
   "source": [
    "### 长干道变量"
   ]
  },
  {
   "cell_type": "code",
   "execution_count": 7,
   "metadata": {},
   "outputs": [],
   "source": [
    "model = md.Model(\"prosmodel\")\n",
    "Z_list = [(i) for i in range(num)]\n",
    "z = model.continuous_var_dict(Z_list, lb=1 / 180, ub=1 / 80, name=\"z\")\n",
    "\n",
    "p_list = [(i) for i in range(num)]\n",
    "p = model.binary_var_dict(p_list, name=\"p\")\n",
    "\n",
    "o_list = [(i) for i in range(num)]\n",
    "o = model.continuous_var_dict(o_list, lb=0, ub=1, name=\"o\")\n",
    "\n",
    "t_list = [(i, k) for i in range(2) for k in range(num-1)]\n",
    "t = model.continuous_var_dict(t_list, lb=0, name=\"t\")\n",
    "\n",
    "w_list = [(i, k) for i in range(numr) for k in range(num)]\n",
    "w = model.continuous_var_dict(w_list, lb=0, ub=1, name=\"w\")\n",
    "\n",
    "\n",
    "b_list = [(i, k) for i in range(numr) for k in range(num)]\n",
    "b = model.continuous_var_dict(b_list, lb=0, ub=1, name=\"b\")\n",
    "\n",
    "n_list = [(i, k) for i in range(numr) for k in range(num)]\n",
    "n = model.integer_var_dict(n_list, lb=0, ub=10, name=\"n\")\n",
    "\n",
    "u_list = [(i, k) for i in range(numr) for k in range(num)]\n",
    "u = model.continuous_var_dict(u_list, lb=0, ub=1, name=\"u\")\n",
    "\n",
    "y_list = [(i, k) for i in range(numr) for k in range(num)]\n",
    "y = model.binary_var_dict(y_list, name=\"y\")"
   ]
  },
  {
   "attachments": {},
   "cell_type": "markdown",
   "metadata": {},
   "source": [
    "# 建立约束"
   ]
  },
  {
   "attachments": {},
   "cell_type": "markdown",
   "metadata": {},
   "source": [
    "## 长干道约束"
   ]
  },
  {
   "attachments": {},
   "cell_type": "markdown",
   "metadata": {},
   "source": [
    "保障路径$i$的绿波带宽出现出现在交叉口$k$内：\n",
    "$$\n",
    "\\begin{cases}\n",
    "b_{i,k}/2+\\Delta_k\\leq w_{i,k}\\leq 1-r_{i,k}-b_{i,k}/2\\\\\n",
    "\\bar{b}_{i,k}/2+\\bar{\\Delta}_k\\leq \\bar{w}_{i,k} \\leq 1-r_{i,k}-\\bar{b}_{i,k}/2\n",
    "\\end{cases}\n",
    "$$\n"
   ]
  },
  {
   "cell_type": "code",
   "execution_count": 8,
   "metadata": {},
   "outputs": [],
   "source": [
    "for k in range(num):\n",
    "    for i in range(numr):\n",
    "        model.add_constraint(b[i, k] / 2 <= w[i, k])\n",
    "        model.add_constraint(w[i, k] <= 1 - r[i][k] - b[i, k] / 2)\n"
   ]
  },
  {
   "attachments": {},
   "cell_type": "markdown",
   "metadata": {},
   "source": [
    "速度变化区间为：\n",
    "$$\n",
    "\\begin{cases}\n",
    "\\frac{d_k}{f_k}z\\leq t_k \\leq \\frac{d_k}{e_k}z\\\\\n",
    "\\frac{\\bar{d}_k}{\\bar{f}_k}z \\leq \\bar{t}_k \\leq \\frac{\\bar{d}_k}{\\bar{e}_k}z\\\\\n",
    "\\frac{d_k}{h_k}z\\leq \\frac{d_k}{d_{k+1}}t_{k+1}-t_k \\leq \\frac{d_k}{g_k}z\\\\\n",
    "\\frac{\\bar{d}_k}{\\bar{h}_k}z \\leq \\frac{\\bar{d}_k}{\\bar{d}_{k+1}}\\bar{t}_{k+1}-\\bar{t}_k\\leq \\frac{\\bar{d}_k}{\\bar{g_k}}z\n",
    "\\end{cases}\n",
    "$$"
   ]
  },
  {
   "cell_type": "code",
   "execution_count": 9,
   "metadata": {},
   "outputs": [],
   "source": [
    "for k in range(num-1):\n",
    "    model.add_constraint(d[k] / speedScope[1] * z[k] <= t[0, k])\n",
    "    model.add_constraint(t[0, k] <= d[k] / speedScope[0] * z[k])\n",
    "\n",
    "    model.add_constraint(d[k] / speedScope[1] * z[k] <= t[1, k])\n",
    "    model.add_constraint(t[1, k] <= d[k] / speedScope[0] * z[k])\n",
    "\n",
    "for k in range(num-2):\n",
    "    model.add_constraint(d[k] / speedVar[0] * z[k] <= d[k] / d[k+1] * t[0, k + 1] - t[0, k])\n",
    "    model.add_constraint(d[k]/d[k+1] * t[0, k + 1] - t[0, k] <= d[k] / speedVar[1] * z[k])\n",
    "\n",
    "    model.add_constraint(d[k] / speedVar[0] * z[k] <= d[k]/d[k+1] * t[1, k + 1] - t[1, k])\n",
    "    model.add_constraint(d[k]/d[k+1] * t[1, k + 1] - t[1, k] <= d[k] / speedVar[1] * z[k])"
   ]
  },
  {
   "attachments": {},
   "cell_type": "markdown",
   "metadata": {},
   "source": [
    "确保每个子区至少包含两个交叉口：\n",
    "$$p_k+p_{k+1}<=1$$"
   ]
  },
  {
   "cell_type": "code",
   "execution_count": 10,
   "metadata": {},
   "outputs": [],
   "source": [
    "for k in range(num-1):\n",
    "    model.add_constraint(p[k] + p[k + 1] <= 1)"
   ]
  },
  {
   "attachments": {},
   "cell_type": "markdown",
   "metadata": {},
   "source": [
    "交叉口偏移量$\\mu_{i,k}$，表示当交叉口$k$为干道分割点时，路径$i$在交叉口的偏移量，即当$p_k=1$时，$\\tau_{i,k}>0$,否则，$\\mu_{i,k}=0$,约束表达为：\n",
    "$$\n",
    "\\epsilon p_k\\leq \\mu_{i,k}\\leq p_k\n",
    "$$"
   ]
  },
  {
   "cell_type": "code",
   "execution_count": 11,
   "metadata": {},
   "outputs": [],
   "source": [
    "for k in range(num):\n",
    "    for i in range(numr):\n",
    "        model.add_constraints([nx * p[k] <= u[i, k], u[i, k] <= p[k]])"
   ]
  },
  {
   "attachments": {},
   "cell_type": "markdown",
   "metadata": {},
   "source": [
    "当路径$i$在交叉口$k$取得非零带宽，则应满足如下约束:\n",
    "$$\\begin{cases}\n",
    "beZ_k-M (1-y_{i,k})\\leq b_{i,k}\\leq y_{i,k} \\\\\n",
    "beZ_k-M (1-\\bar{y}_{i,k})\\leq \\bar{b}_{i,k}\\leq \\bar{y}_{i,k}\n",
    "\\end{cases}\n",
    "$$"
   ]
  },
  {
   "cell_type": "code",
   "execution_count": 12,
   "metadata": {},
   "outputs": [],
   "source": [
    "for k in range(num):\n",
    "    for i in range(numr):\n",
    "        model.add_constraint(be * z[k] - M * (1 - y[i, k]) <= b[i, k])\n",
    "        model.add_constraint(b[i, k] <= y[i, k])\n"
   ]
  },
  {
   "attachments": {},
   "cell_type": "markdown",
   "metadata": {},
   "source": [
    "相同分段子区内部的交叉口绿波带宽相同，约束表达为：\n",
    "$$\\begin{cases}\n",
    "-M p_{k+1}\\leq b_{i,k}-b_{i,k+1}\\leq M p_{k+1}\\\\\n",
    "-M p_{k}\\leq \\bar{b}_{i,k}-\\bar{b}_{i,k+1}\\leq M p_{k}\n",
    "\\end{cases}\n",
    "$$"
   ]
  },
  {
   "attachments": {},
   "cell_type": "markdown",
   "metadata": {},
   "source": [
    "为避免路径产生无效带宽，引入二进制变量$y_{i,k}$,其定义如下：\n",
    "$$\n",
    "y_{i,k}=\\begin{cases}\n",
    "1,&\\text{如果路径$i$在交叉口$k$能够获得有效非零带宽}\\\\\n",
    "0,& \\text{其他}\n",
    "\\end{cases}\n",
    "$$\n",
    "\n",
    "路径$i$在相同分组内取得相等带宽，进而约束相同分组内交叉口同时取得非零带宽，在不同分组可能无法取得带宽，其约束表达如下：\n",
    "\n",
    "$$\\begin{cases}\n",
    "-M p_{k+1}\\leq y_{i,k}-y_{i,k+1}\\leq M p_{k+1}\\\\\n",
    "-M p_{k}\\leq \\bar{y}_{i,k}-\\bar{y}_{i,k+1}\\leq M p_{k}\n",
    "\\end{cases}\n",
    "$$"
   ]
  },
  {
   "attachments": {},
   "cell_type": "markdown",
   "metadata": {},
   "source": [
    "其含义为，当路径$i$在交叉口$k$能够取得非零带宽,则其带宽应大于基础带宽$be$"
   ]
  },
  {
   "attachments": {},
   "cell_type": "markdown",
   "metadata": {},
   "source": [
    "因引入$y_{i,k}$，当路径$i$在交叉口$k$无法取得有效带宽时，其循环整形约束应不再起作用，循环整形约束可修改为:"
   ]
  },
  {
   "attachments": {},
   "cell_type": "markdown",
   "metadata": {},
   "source": [
    "$$\n",
    "\\begin{cases}\n",
    "\\theta_k+r_{i,k}+\\varphi_{i,k}+w_{i,k}+t_{k}+\\mu_{k+1}\\geq \\theta_{k+1}+r_{i,k+1}+\\varphi_{i,k+1}+w_{i,k+1}+n_{i,k+1}-M(1-y_{i,k})\\\\\n",
    "\\theta_k+r_{i,k}+\\varphi_{i,k}+w_{i,k}+t_{k}+\\mu_{k+1}\\leq \\theta_{k+1}+r_{i,k+1}+\\varphi_{i,k+1}+w_{i,k+1}+n_{i,k+1}+M(1-y_{i,k})\\\\ \n",
    "\\end{cases}\n",
    "$$\n",
    "\n",
    "$$\n",
    "\\begin{cases}\n",
    "\\theta_k+\\bar{r}_{i,k}+\\bar{\\varphi}_{i,k}+\\bar{w}_{i,k}+\\bar{n}_{i,k}\\geq\\theta_{k+1}+\\bar{r}_{i,k+1}+\\bar{\\varphi}_{i,k+1}+\\bar{w}_{i,k+1}+\\bar{t}_{k}+\\bar{\\mu}_{k}-M(1-y_{i,k})\\\\\n",
    "\\theta_k+\\bar{r}_{i,k}+\\bar{\\varphi}_{i,k}+\\bar{w}_{i,k}+\\bar{n}_{i,k}\\leq\\theta_{k+1}+\\bar{r}_{i,k+1}+\\bar{\\varphi}_{i,k+1}+\\bar{w}_{i,k+1}+\\bar{t}_{k}+\\bar{\\mu}_{k}+M(1-y_{i,k})\n",
    "\\end{cases}\n",
    "$$"
   ]
  },
  {
   "cell_type": "code",
   "execution_count": 13,
   "metadata": {},
   "outputs": [],
   "source": [
    "def add_split_on_cons(i):\n",
    "    for k in range(num-1):\n",
    "        model.add_constraint(o[k] + r[i, k] + dr[i, k] + w[i, k] + t[0, k] + u[i, k]>=\\\n",
    "            o[k + 1]+ r[i, k+1] + dr[i, k+1]+ w[i, k + 1]+ n[i, k + 1]- M * (1 - y[i, k]))\n",
    "        model.add_constraint(o[k] + r[i, k] + dr[i, k] + w[i, k] + t[0, k] + u[i, k]<=\\\n",
    "            o[k + 1]+ r[i, k+1] + dr[i, k+1]+ w[i, k + 1]+ n[i, k + 1]+ M * (1 - y[i, k]))\n",
    "\n",
    "        model.add_constraint(-M * p[k + 1] <= b[i, k] - b[i, k + 1])\n",
    "        model.add_constraint(b[i, k] - b[i, k + 1] <= M * p[k + 1])\n",
    "\n",
    "        model.add_constraint(-M * p[k + 1] <= y[i, k + 1] - y[i, k])\n",
    "        model.add_constraint(y[i, k + 1] - y[i, k] <= M * p[k + 1])\n",
    "def add_split_in_cons(i):\n",
    "    for k in range(num-1):\n",
    "        model.add_constraint(o[k] + r[i, k] + dr[i, k] + w[i, k] + n[i, k]>=\\\n",
    "             o[k + 1]+ r[i, k+1]+ dr[i, k+1]+ w[i, k + 1]+ t[1, k]+ u[i, k]- M * (1 - y[i, k]))\n",
    "        model.add_constraint(o[k] + r[i, k] + dr[i, k] + w[i, k] + n[i, k]<=\\\n",
    "             o[k + 1]+ r[i, k+1]+ dr[i, k+1]+ w[i, k + 1]+ t[1, k]+ u[i, k]+ M * (1 - y[i, k]))\n",
    "\n",
    "        model.add_constraint(-M * p[k] <= b[i, k] - b[i, k + 1])\n",
    "        model.add_constraint(b[i, k] - b[i, k + 1] <= M * p[k])\n",
    "\n",
    "        model.add_constraint(-M * p[k] <= y[i, k + 1] - y[i, k])\n",
    "        model.add_constraint(y[i, k + 1] - y[i, k] <= M * p[k])"
   ]
  },
  {
   "cell_type": "code",
   "execution_count": 14,
   "metadata": {},
   "outputs": [],
   "source": [
    "for i in range(numr):\n",
    "    if ison[i]==0:\n",
    "        add_split_on_cons(i)\n",
    "    elif ison[i]==1:\n",
    "        add_split_in_cons(i)"
   ]
  },
  {
   "attachments": {},
   "cell_type": "markdown",
   "metadata": {},
   "source": [
    "注意到某些情况下，模型可能更偏好某一方向带宽，从而将其他方向的带宽设置为0，为避免这种情况的发生，同时体现模型对上行（下行）方向的偏好，定义约束："
   ]
  },
  {
   "attachments": {},
   "cell_type": "markdown",
   "metadata": {},
   "source": [
    "$$\n",
    "(1-\\rho_{k})\\sum_i b_{i,k}\\geq (1-\\rho_{k})\\rho_{k} \\sum_i \\bar{b}_{i,k}\n",
    "$$"
   ]
  },
  {
   "cell_type": "code",
   "execution_count": 15,
   "metadata": {},
   "outputs": [],
   "source": [
    "for k in range(num):\n",
    "    model.add_constraint((1 - rho[k]) * model.sum([b[i, k]*(1-ison[i]) for i in range(numr)])>=\\\n",
    "         (1 - rho[k])* rho[k]* model.sum([b[i, k]*ison[i] for i in range(numr)]))"
   ]
  },
  {
   "attachments": {},
   "cell_type": "markdown",
   "metadata": {},
   "source": [
    "因干道分割可对长干道进行分组，组内实现干道协调，不同组之间互不影响，因此不同分组可采用不同的信号协调周期，其约束表达如下："
   ]
  },
  {
   "attachments": {},
   "cell_type": "markdown",
   "metadata": {},
   "source": [
    "$$\n",
    "\\begin{cases}\n",
    "Z_{min}\\leq Z_k\\leq Z_{max}\\\\\n",
    "-Mp_{k+1}\\leq Z_{k+1}-Z_{k}\\leq MP_{k+1}\n",
    "\\end{cases}\n",
    "$$"
   ]
  },
  {
   "cell_type": "code",
   "execution_count": 16,
   "metadata": {},
   "outputs": [],
   "source": [
    "for k in range(num-1):\n",
    "    model.add_constraint(-M * p[k + 1] <= z[k + 1] - z[k])\n",
    "    model.add_constraint(z[k + 1] - z[k] <= M * p[k + 1])"
   ]
  },
  {
   "attachments": {},
   "cell_type": "markdown",
   "metadata": {},
   "source": [
    "通过该约束，可实现在不同分段子区之间，可采用不同的信号周期，避免过长的干道采用相同信号周期造成部分交叉口车辆延误过大"
   ]
  },
  {
   "attachments": {},
   "cell_type": "markdown",
   "metadata": {},
   "source": [
    "## 速度波动约束"
   ]
  },
  {
   "attachments": {},
   "cell_type": "markdown",
   "metadata": {},
   "source": [
    "插入图片"
   ]
  },
  {
   "attachments": {},
   "cell_type": "markdown",
   "metadata": {},
   "source": [
    "$i$表示路径，$j$表示相位，$k$表示交叉口\n",
    "- $A_k$ ：表示上行带宽所处红灯结束（绿灯开始时间）点位\n",
    "\n",
    "- $B_k$: 表示上行带宽所处绿灯结束（红灯开始时间）点位\n",
    "\n",
    "- $A_{k}^{\\prime}$:上行带宽与交叉口相位的左侧交点\n",
    "\n",
    "- $B_{k}^{\\prime}$:上行带宽与交叉口相位的右侧交点\n",
    "\n",
    "- $\\bar{A}_{k}$：表示下行带宽所处红灯结束（绿灯开始时间）点位\n",
    "\n",
    "-  $\\bar{B}_{k}$: 表示下行带宽所处绿灯结束（红灯开始时间）点位\n",
    "\n",
    "- $\\bar{A}_{k}^{\\prime}$:下行带宽与交叉口相位的左侧交点\n",
    "\n",
    "- $\\bar{B}_{k}^{\\prime}$:下行带宽与交叉口相位的右侧交点"
   ]
  },
  {
   "attachments": {},
   "cell_type": "markdown",
   "metadata": {},
   "source": [
    "$$\\begin{cases}\n",
    "A_{k,v}=\\theta_k+rs_k\\\\\n",
    "B_{k,v}=\\theta_k+r_k+gs_k\\\\\n",
    "A_{k,v}^{\\prime}=max\\{A_{k-1,v}^{\\prime}+d_{k-1}/v*z_k-M*(1-p_k),A_{k,v}+\\tau_k+n_{k,v}\\}\\\\\n",
    "B_{k,v}^{\\prime}=min\\{B_{k-1,v}^{\\prime}+d_{k-1}/v*z_k+M*(1-p_k),B_{k,v}+n_{k,v}\\}\\\\\n",
    "\\bar{A}_{k}=\\theta_k+\\bar{rs}_k+\\Delta_k\\\\\n",
    "\\bar{B}_{k}=\\theta_k+\\bar{rs}_k+\\bar{gs}_k+\\Delta_k\\\\\n",
    "\\bar{A}_{k,v}^{\\prime}=max\\{\\bar{A}_{k+1,v}^{\\prime}+d_{k}/v*z_k-M*(1-p_k),\\bar{A}_{k,v}+\\bar{\\tau}_k+\\bar{n}_{k,v}\\}\\\\\n",
    "\\bar{B}_{k,v}^{\\prime}=min\\{\\bar{B}_{k+1,v}^{\\prime}+d_{k}/v*z_k+M*(1-p_k),\\bar{B}_{k,v}+\\bar{n}_{k,v}\\}\n",
    "\\end{cases}\n",
    "$$\n"
   ]
  },
  {
   "cell_type": "code",
   "execution_count": 17,
   "metadata": {},
   "outputs": [],
   "source": [
    "# def add_var_on_cons(A, B, o, r, g, t, n, k, end, yp, px, p, sum_on,rho):\n",
    "#     if k>=end:\n",
    "#         return sum_on\n",
    "#     else:\n",
    "#         A=model.max([A+t[k-1]-M*(1-p[k]),o[k]+r[k]+n[k]+px[k]])\n",
    "#         B=model.min(B+t[k-1]+M*(1-p[k]), o[k]+r[k]+g[k]+n[k]+px[k])\n",
    "#         model.add_constraints([-M*(1-yp[k]) <= B-A, B-A <= g[k]+M*(1-yp[k])])\n",
    "#         model.add_constraints([be*z[k]-M*(1-yp[k]) <= B-A, B-A <= yp[k]+M*(1-yp[k])])\n",
    "#         sum_on+=(B-A)*yp[k]\n",
    "#         return add_var_on_cons(A, B, o, r, g, t, n, k+1, end, yp, px, p, sum_on,rho)\n",
    "\n",
    "# def add_var_in_cons(A, B, o, r, g, t, n, k, end, yp, px, p, sum_in,rho):\n",
    "#     if k<=end:\n",
    "#         return sum_in\n",
    "#     else:\n",
    "#         A=model.max([A+t[k]-M*(1-p[k]), o[k]+r[k]+n[k]+px[k]])\n",
    "#         B=model.min([B+t[k]+M*(1-p[k]), o[k]+r[k]+g[k]+n[k]])\n",
    "#         model.add_constraints([-M*(1-yp[k]) <= B-A, B-A <= g[k]+M*(1-yp[k])])\n",
    "#         model.add_constraints([be*z[k]-M*(1-yp[k]) <= B-A, B-A <= yp[k]+M*(1-yp[k])])\n",
    "#         sum_in += (B-A)*yp[k]\n",
    "#         return add_var_in_cons(A, B, o, r, g, t, n, k-1, end, yp, px, p, sum_in,rho)"
   ]
  },
  {
   "cell_type": "code",
   "execution_count": 18,
   "metadata": {},
   "outputs": [],
   "source": [
    "# sum_on=0\n",
    "# sum_in=0\n",
    "# for i,v in enumerate(linspace):\n",
    "#     sum_on+=add_var_on_cons(\n",
    "#         A=o[0]+sr[0,0],\n",
    "#         B=o[0]+sr[0,0]+sg[0,0],\n",
    "#         o=o,\n",
    "#         r=sr[0],\n",
    "#         g=sg[0],\n",
    "#         t=np.array([d[j]/v*z[j] for j in range(num-1)]),\n",
    "#         n=np.array([nt[0,j,i] for j in range(num)]),\n",
    "#         k=1,\n",
    "#         end=num,\n",
    "#         yp=np.array([yp[0,j,i] for j in range(num)]),\n",
    "#         px=px[0],\n",
    "#         p=p,\n",
    "#         sum_on=sum_on,\n",
    "#         rho=rho\n",
    "#     )\n",
    "#     sum_in+=add_var_in_cons(\n",
    "#         A=o[num-1]+sr[1,num-1],\n",
    "#         B=o[num-1]+sr[1,num-1]+sg[1,num-1],\n",
    "#         o=o,\n",
    "#         r=sr[1],\n",
    "#         g=sg[1],\n",
    "#         t=np.array([d[j]/v*z[j] for j in range(num-1)]),\n",
    "#         n=np.array([nt[1,j,i] for j in range(num)]),\n",
    "#         k=num-2,\n",
    "#         end=-1,\n",
    "#         yp=np.array([yp[1,j,i] for j in range(num)]),\n",
    "#         px=px[1],\n",
    "#         p=p,\n",
    "#         sum_in=sum_in,\n",
    "#         rho=rho       \n",
    "#     )"
   ]
  },
  {
   "attachments": {},
   "cell_type": "markdown",
   "metadata": {},
   "source": [
    "为避免某些速度下无法取得有效带宽，进而影响其他速度下的带宽，可尽量\n",
    "$$\n",
    "\\eta_{k,v}=\\begin{cases}\n",
    "1,&\\text{如果速度$v$在交叉口$k$下能够获得有效带宽}\\\\\n",
    "0,& \\text{其他}\n",
    "\\end{cases}\n",
    "$$\n",
    "$$\n",
    "\\begin{cases}\n",
    "be*z_k-M(1-\\eta_{k,v})\\leq B^{\\prime}_{k,v} -A ^{\\prime}_{k,v} \\leq \\eta_{k,v}+M*(1-\\eta_{k,v})\\\\\n",
    "be*z_k-M(1-\\bar{\\eta}_{k,v})\\leq B^{\\prime}_{k,v} -A ^{\\prime}_{k,v} \\leq \\bar{\\eta}_{k,v}+M*(1-\\bar{\\eta}_{k,v})\n",
    "\\end{cases}\n",
    "$$"
   ]
  },
  {
   "attachments": {},
   "cell_type": "markdown",
   "metadata": {},
   "source": [
    "为了保证带宽式中为正，应确保点$B^{\\prime}_k(\\bar{B}^{\\prime}_k)$始终处于点$A^{\\prime}_k(\\bar{A}^{\\prime}_k)$的右侧，约束表示为：\n",
    "$$\n",
    "\\begin{cases}\n",
    "-M*(1-\\eta_{k,v})\\leq B^{\\prime}_{k,v}-A^{\\prime}_{k,v}\\leq g_{k}+M*(1-\\eta_{k,v})\\\\\n",
    "-M*(1-\\bar{\\eta}_{k,v} )\\leq\\bar{B}^{\\prime}_{k,v}-\\bar{A}^{\\prime}_{k,v} \\leq \\bar{g}_k+M*(1-\\bar{\\eta}_{k,v})\n",
    "\\end{cases}\n",
    "$$"
   ]
  },
  {
   "attachments": {},
   "cell_type": "markdown",
   "metadata": {},
   "source": [
    "$$\n",
    "\\begin{cases}\n",
    "b_{k,v}=B_{k,v}^{\\prime}-A_{k,v}^{\\prime},& k=1,2,...,n,&v \\in \\Omega_v \\\\\n",
    "\\bar{b}_{k,v}=\\bar{B}_{k,v}^{\\prime}-\\bar{A}_{k,v}^{\\prime},& k=0,1,...,n-1,&v \\in \\Omega_v\n",
    "\\end{cases}\n",
    "$$"
   ]
  },
  {
   "attachments": {},
   "cell_type": "markdown",
   "metadata": {},
   "source": [
    "$$\n",
    "(1-\\rho_{k})\\sum_i b_{k,v}\\geq (1-\\rho_{k})\\rho_{k} \\sum_i \\bar{b}_{k,v}\n",
    "$$"
   ]
  },
  {
   "attachments": {},
   "cell_type": "markdown",
   "metadata": {},
   "source": [
    "$$\n",
    "\\begin{cases}\n",
    "-Mp_{k+1}\\leq\\eta_{k,v}-\\eta_{k+1,v}\\leq Mp_{k+1}\\\\\n",
    "-Mp_{k}\\leq\\bar{\\eta}_{k,v}-\\bar{\\eta}_{k+1,v}\\leq Mp_{k}\n",
    "\\end{cases}\n",
    "$$"
   ]
  },
  {
   "cell_type": "code",
   "execution_count": 19,
   "metadata": {},
   "outputs": [],
   "source": [
    "# for k in range(num-1):\n",
    "#     for v in range(lin_num):\n",
    "#         model.add_constraints([-M*p[k+1]<=yp[0,k,v]-yp[0,k+1,v],yp[0,k,v]-yp[0,k+1,v]<=M*p[k+1]])\n",
    "#         model.add_constraints([-M*p[k]<=yp[1,k,v]-yp[1,k+1,v],yp[1,k,v]-yp[1,k+1,v]<=M*p[k]])"
   ]
  },
  {
   "attachments": {},
   "cell_type": "markdown",
   "metadata": {},
   "source": [
    "# 构建目标函数"
   ]
  },
  {
   "attachments": {},
   "cell_type": "markdown",
   "metadata": {},
   "source": [
    "## 长干道目标构建"
   ]
  },
  {
   "attachments": {},
   "cell_type": "markdown",
   "metadata": {},
   "source": [
    "目标函数包括三部分：\n",
    "- 最大化每条路径各交叉口的的绿波带宽。\n",
    "- 最小化分割点停车等待时间。\n",
    "- 最小化分割次数，并限制分割点流量。\n",
    "$$\n",
    "MAX:\\sum_{i=1}^{I}\\left(\\omega_1\\sum_{k=1}^{\\Omega_i}\\left(q_{i}b_{i,k}+\\bar{q}_{i}\\bar{b}_{i,k} \\right)-\\omega_2\n",
    "\\sum_{k=1}^{\\Omega_i}\\left(q_{i}\\mu_{i,k}+\\bar{q}_{i}\\bar{\\mu}_{i,k}\\right)\\right)-\\omega_3\\sum_{k=1}^{\\Omega_i}\\left(p_k\\left(Q_k+\\bar{Q}_k\\right)\\right)\n",
    "$$"
   ]
  },
  {
   "cell_type": "code",
   "execution_count": 20,
   "metadata": {},
   "outputs": [],
   "source": [
    "sum_b = model.sum([q[i] * b[i, k] for i in range(numr) for k in range(num)])\n",
    "sum_u = model.sum([q[i] * u[i, k] for i in range(numr) for k in range(num)])\n",
    "sum_p = model.sum([p[k] * (Q[0, k] + Q[1, k]) for k in range(num)])\n",
    "sum_split=sum_b*5-sum_u*4-sum_p*1"
   ]
  },
  {
   "attachments": {},
   "cell_type": "markdown",
   "metadata": {},
   "source": [
    "## 速度波动目标构建"
   ]
  },
  {
   "attachments": {},
   "cell_type": "markdown",
   "metadata": {},
   "source": [
    "$$\n",
    "MAX: \\sum_{v\\in\\Omega}\\left(\\omega_1\\sum_{k=1}^{I}\\eta_{k,v}(B^{\\prime}_{k,v}-A^{\\prime}_{k,v})+\\bar{\\eta}_{k,v}(\\bar{B}^{\\prime}_{k,v}-\\bar{A}^{\\prime}_{k,v})\\right)\n",
    "$$"
   ]
  },
  {
   "cell_type": "code",
   "execution_count": 21,
   "metadata": {},
   "outputs": [],
   "source": [
    "# sum_var=sum_in+sum_on"
   ]
  },
  {
   "cell_type": "code",
   "execution_count": 22,
   "metadata": {},
   "outputs": [
    {
     "name": "stdout",
     "output_type": "stream",
     "text": [
      "status  = integer optimal, tolerance\n",
      "time    = 2.063 s.\n",
      "problem = MILP\n",
      "gap     = 0.00987066%\n",
      "\n"
     ]
    },
    {
     "data": {
      "text/plain": [
       "60005.003740460146"
      ]
     },
     "execution_count": 22,
     "metadata": {},
     "output_type": "execute_result"
    }
   ],
   "source": [
    "model.maximize(sum_split)\n",
    "sol = model.solve()\n",
    "print(sol.solve_details)\n",
    "sol.objective_value"
   ]
  },
  {
   "cell_type": "code",
   "execution_count": 23,
   "metadata": {},
   "outputs": [],
   "source": [
    "o = sol.get_value_dict(o)\n",
    "# nt = sol.get_value_dict(nt)\n",
    "z = sol.get_value_dict(z)\n",
    "t = sol.get_value_dict(t)\n",
    "p = sol.get_value_dict(p)\n",
    "w = sol.get_value_dict(w)\n",
    "n = sol.get_value_dict(n)\n",
    "u = sol.get_value_dict(u)\n",
    "y = sol.get_value_dict(y)\n",
    "b = sol.get_value_dict(b)\n",
    "# yp = sol.get_value_dict(yp)"
   ]
  },
  {
   "cell_type": "code",
   "execution_count": 24,
   "metadata": {},
   "outputs": [],
   "source": [
    "Df=[[i for i in range(1,num+1)]]\n",
    "Df+=[[d[i] for i in range(num-1)] + [np.nan]]\n",
    "Df+=[[b[i,k] for k in range(num)] for i in range(numr)]\n",
    "Df+=[[o[k] for k in range(num)]]\n",
    "Df+=[[p[k] for k in range(num)]]\n",
    "Df+=[[t[i,k] for k in range(num-1)]+[np.nan] for i in range(2)]\n",
    "Df+=[[y[i,k] for k in range(num)] for i in range(numr)]\n",
    "Df+=[[z[k] for k in range(num)]]\n",
    "Df+=[[u[i,k] for k in range(num)] for i in range(numr)]\n",
    "# Df+=[[yp[i,k,j] for k in range(num)] for j in range(lin_num) for i in range(2)]\n",
    "Df=np.array(Df)\n",
    "Df=Df.T\n",
    "Df=pd.DataFrame(Df)\n",
    "cols=[\"cross_number\"]\n",
    "cols+=[\"distance\"]\n",
    "cols+=[\"b_\"+str(i) for i in range(numr)]\n",
    "cols+=[\"offset\",\"p\"]\n",
    "cols+=[\"t_\"+str(i) for i in range(2)]\n",
    "cols+=[\"y_\"+str(i) for i in range(numr)]\n",
    "cols+=[\"z\"]\n",
    "cols+=[\"u_\"+str(i) for i in range(numr)]\n",
    "# cols+=[\"yp_on_\"+str(i) for i in range(lin_num)]\n",
    "# cols+=[\"yp_in_\"+str(i) for i in range(lin_num)]\n",
    "Df.columns=cols"
   ]
  },
  {
   "cell_type": "code",
   "execution_count": 25,
   "metadata": {},
   "outputs": [
    {
     "data": {
      "text/html": [
       "<div>\n",
       "<style scoped>\n",
       "    .dataframe tbody tr th:only-of-type {\n",
       "        vertical-align: middle;\n",
       "    }\n",
       "\n",
       "    .dataframe tbody tr th {\n",
       "        vertical-align: top;\n",
       "    }\n",
       "\n",
       "    .dataframe thead th {\n",
       "        text-align: right;\n",
       "    }\n",
       "</style>\n",
       "<table border=\"1\" class=\"dataframe\">\n",
       "  <thead>\n",
       "    <tr style=\"text-align: right;\">\n",
       "      <th></th>\n",
       "      <th>b_0</th>\n",
       "      <th>b_1</th>\n",
       "      <th>b_2</th>\n",
       "      <th>b_3</th>\n",
       "      <th>b_4</th>\n",
       "      <th>b_5</th>\n",
       "      <th>y_0</th>\n",
       "      <th>y_1</th>\n",
       "      <th>y_2</th>\n",
       "      <th>y_3</th>\n",
       "      <th>y_4</th>\n",
       "      <th>y_5</th>\n",
       "    </tr>\n",
       "  </thead>\n",
       "  <tbody>\n",
       "    <tr>\n",
       "      <th>0</th>\n",
       "      <td>0.269613</td>\n",
       "      <td>0.370833</td>\n",
       "      <td>0.000000</td>\n",
       "      <td>0.000000</td>\n",
       "      <td>0.000000</td>\n",
       "      <td>0.483333</td>\n",
       "      <td>1.0</td>\n",
       "      <td>1.0</td>\n",
       "      <td>0.0</td>\n",
       "      <td>0.0</td>\n",
       "      <td>0.0</td>\n",
       "      <td>1.0</td>\n",
       "    </tr>\n",
       "    <tr>\n",
       "      <th>1</th>\n",
       "      <td>0.269613</td>\n",
       "      <td>0.370833</td>\n",
       "      <td>0.000000</td>\n",
       "      <td>0.205556</td>\n",
       "      <td>0.000000</td>\n",
       "      <td>0.372222</td>\n",
       "      <td>1.0</td>\n",
       "      <td>1.0</td>\n",
       "      <td>0.0</td>\n",
       "      <td>1.0</td>\n",
       "      <td>0.0</td>\n",
       "      <td>1.0</td>\n",
       "    </tr>\n",
       "    <tr>\n",
       "      <th>2</th>\n",
       "      <td>0.244376</td>\n",
       "      <td>0.366581</td>\n",
       "      <td>0.000000</td>\n",
       "      <td>0.205556</td>\n",
       "      <td>0.000000</td>\n",
       "      <td>0.372222</td>\n",
       "      <td>1.0</td>\n",
       "      <td>1.0</td>\n",
       "      <td>0.0</td>\n",
       "      <td>1.0</td>\n",
       "      <td>0.0</td>\n",
       "      <td>1.0</td>\n",
       "    </tr>\n",
       "    <tr>\n",
       "      <th>3</th>\n",
       "      <td>0.244376</td>\n",
       "      <td>0.366581</td>\n",
       "      <td>0.000000</td>\n",
       "      <td>0.211111</td>\n",
       "      <td>0.000000</td>\n",
       "      <td>0.377778</td>\n",
       "      <td>1.0</td>\n",
       "      <td>1.0</td>\n",
       "      <td>0.0</td>\n",
       "      <td>1.0</td>\n",
       "      <td>0.0</td>\n",
       "      <td>1.0</td>\n",
       "    </tr>\n",
       "    <tr>\n",
       "      <th>4</th>\n",
       "      <td>0.308889</td>\n",
       "      <td>0.222222</td>\n",
       "      <td>0.000000</td>\n",
       "      <td>0.211111</td>\n",
       "      <td>0.000000</td>\n",
       "      <td>0.377778</td>\n",
       "      <td>1.0</td>\n",
       "      <td>1.0</td>\n",
       "      <td>0.0</td>\n",
       "      <td>1.0</td>\n",
       "      <td>0.0</td>\n",
       "      <td>1.0</td>\n",
       "    </tr>\n",
       "    <tr>\n",
       "      <th>5</th>\n",
       "      <td>0.308889</td>\n",
       "      <td>0.222222</td>\n",
       "      <td>0.000000</td>\n",
       "      <td>0.000000</td>\n",
       "      <td>0.000000</td>\n",
       "      <td>0.455556</td>\n",
       "      <td>1.0</td>\n",
       "      <td>1.0</td>\n",
       "      <td>0.0</td>\n",
       "      <td>0.0</td>\n",
       "      <td>0.0</td>\n",
       "      <td>1.0</td>\n",
       "    </tr>\n",
       "    <tr>\n",
       "      <th>6</th>\n",
       "      <td>0.235556</td>\n",
       "      <td>0.000000</td>\n",
       "      <td>0.000000</td>\n",
       "      <td>0.000000</td>\n",
       "      <td>0.000000</td>\n",
       "      <td>0.455556</td>\n",
       "      <td>1.0</td>\n",
       "      <td>0.0</td>\n",
       "      <td>0.0</td>\n",
       "      <td>0.0</td>\n",
       "      <td>0.0</td>\n",
       "      <td>1.0</td>\n",
       "    </tr>\n",
       "    <tr>\n",
       "      <th>7</th>\n",
       "      <td>0.235556</td>\n",
       "      <td>0.000000</td>\n",
       "      <td>0.000000</td>\n",
       "      <td>0.416667</td>\n",
       "      <td>0.000000</td>\n",
       "      <td>0.000000</td>\n",
       "      <td>1.0</td>\n",
       "      <td>0.0</td>\n",
       "      <td>0.0</td>\n",
       "      <td>1.0</td>\n",
       "      <td>0.0</td>\n",
       "      <td>0.0</td>\n",
       "    </tr>\n",
       "    <tr>\n",
       "      <th>8</th>\n",
       "      <td>0.383333</td>\n",
       "      <td>0.000000</td>\n",
       "      <td>0.383333</td>\n",
       "      <td>0.416667</td>\n",
       "      <td>0.000000</td>\n",
       "      <td>0.000000</td>\n",
       "      <td>1.0</td>\n",
       "      <td>0.0</td>\n",
       "      <td>1.0</td>\n",
       "      <td>1.0</td>\n",
       "      <td>0.0</td>\n",
       "      <td>0.0</td>\n",
       "    </tr>\n",
       "    <tr>\n",
       "      <th>9</th>\n",
       "      <td>0.383333</td>\n",
       "      <td>0.000000</td>\n",
       "      <td>0.383333</td>\n",
       "      <td>0.388889</td>\n",
       "      <td>0.388889</td>\n",
       "      <td>0.000000</td>\n",
       "      <td>1.0</td>\n",
       "      <td>0.0</td>\n",
       "      <td>1.0</td>\n",
       "      <td>1.0</td>\n",
       "      <td>1.0</td>\n",
       "      <td>0.0</td>\n",
       "    </tr>\n",
       "    <tr>\n",
       "      <th>10</th>\n",
       "      <td>0.416667</td>\n",
       "      <td>0.000000</td>\n",
       "      <td>0.416667</td>\n",
       "      <td>0.388889</td>\n",
       "      <td>0.388889</td>\n",
       "      <td>0.000000</td>\n",
       "      <td>1.0</td>\n",
       "      <td>0.0</td>\n",
       "      <td>1.0</td>\n",
       "      <td>1.0</td>\n",
       "      <td>1.0</td>\n",
       "      <td>0.0</td>\n",
       "    </tr>\n",
       "    <tr>\n",
       "      <th>11</th>\n",
       "      <td>0.416667</td>\n",
       "      <td>0.000000</td>\n",
       "      <td>0.416667</td>\n",
       "      <td>0.333333</td>\n",
       "      <td>0.333333</td>\n",
       "      <td>0.000000</td>\n",
       "      <td>1.0</td>\n",
       "      <td>0.0</td>\n",
       "      <td>1.0</td>\n",
       "      <td>1.0</td>\n",
       "      <td>1.0</td>\n",
       "      <td>0.0</td>\n",
       "    </tr>\n",
       "    <tr>\n",
       "      <th>12</th>\n",
       "      <td>0.377778</td>\n",
       "      <td>0.000000</td>\n",
       "      <td>0.377778</td>\n",
       "      <td>0.333333</td>\n",
       "      <td>0.333333</td>\n",
       "      <td>0.000000</td>\n",
       "      <td>1.0</td>\n",
       "      <td>0.0</td>\n",
       "      <td>1.0</td>\n",
       "      <td>1.0</td>\n",
       "      <td>1.0</td>\n",
       "      <td>0.0</td>\n",
       "    </tr>\n",
       "    <tr>\n",
       "      <th>13</th>\n",
       "      <td>0.377778</td>\n",
       "      <td>0.000000</td>\n",
       "      <td>0.377778</td>\n",
       "      <td>0.220139</td>\n",
       "      <td>0.000000</td>\n",
       "      <td>0.000000</td>\n",
       "      <td>1.0</td>\n",
       "      <td>0.0</td>\n",
       "      <td>1.0</td>\n",
       "      <td>1.0</td>\n",
       "      <td>0.0</td>\n",
       "      <td>0.0</td>\n",
       "    </tr>\n",
       "    <tr>\n",
       "      <th>14</th>\n",
       "      <td>0.433333</td>\n",
       "      <td>0.000000</td>\n",
       "      <td>0.433333</td>\n",
       "      <td>0.220139</td>\n",
       "      <td>0.000000</td>\n",
       "      <td>0.000000</td>\n",
       "      <td>1.0</td>\n",
       "      <td>0.0</td>\n",
       "      <td>1.0</td>\n",
       "      <td>1.0</td>\n",
       "      <td>0.0</td>\n",
       "      <td>0.0</td>\n",
       "    </tr>\n",
       "  </tbody>\n",
       "</table>\n",
       "</div>"
      ],
      "text/plain": [
       "         b_0       b_1       b_2       b_3       b_4       b_5  y_0  y_1  y_2  \\\n",
       "0   0.269613  0.370833  0.000000  0.000000  0.000000  0.483333  1.0  1.0  0.0   \n",
       "1   0.269613  0.370833  0.000000  0.205556  0.000000  0.372222  1.0  1.0  0.0   \n",
       "2   0.244376  0.366581  0.000000  0.205556  0.000000  0.372222  1.0  1.0  0.0   \n",
       "3   0.244376  0.366581  0.000000  0.211111  0.000000  0.377778  1.0  1.0  0.0   \n",
       "4   0.308889  0.222222  0.000000  0.211111  0.000000  0.377778  1.0  1.0  0.0   \n",
       "5   0.308889  0.222222  0.000000  0.000000  0.000000  0.455556  1.0  1.0  0.0   \n",
       "6   0.235556  0.000000  0.000000  0.000000  0.000000  0.455556  1.0  0.0  0.0   \n",
       "7   0.235556  0.000000  0.000000  0.416667  0.000000  0.000000  1.0  0.0  0.0   \n",
       "8   0.383333  0.000000  0.383333  0.416667  0.000000  0.000000  1.0  0.0  1.0   \n",
       "9   0.383333  0.000000  0.383333  0.388889  0.388889  0.000000  1.0  0.0  1.0   \n",
       "10  0.416667  0.000000  0.416667  0.388889  0.388889  0.000000  1.0  0.0  1.0   \n",
       "11  0.416667  0.000000  0.416667  0.333333  0.333333  0.000000  1.0  0.0  1.0   \n",
       "12  0.377778  0.000000  0.377778  0.333333  0.333333  0.000000  1.0  0.0  1.0   \n",
       "13  0.377778  0.000000  0.377778  0.220139  0.000000  0.000000  1.0  0.0  1.0   \n",
       "14  0.433333  0.000000  0.433333  0.220139  0.000000  0.000000  1.0  0.0  1.0   \n",
       "\n",
       "    y_3  y_4  y_5  \n",
       "0   0.0  0.0  1.0  \n",
       "1   1.0  0.0  1.0  \n",
       "2   1.0  0.0  1.0  \n",
       "3   1.0  0.0  1.0  \n",
       "4   1.0  0.0  1.0  \n",
       "5   0.0  0.0  1.0  \n",
       "6   0.0  0.0  1.0  \n",
       "7   1.0  0.0  0.0  \n",
       "8   1.0  0.0  0.0  \n",
       "9   1.0  1.0  0.0  \n",
       "10  1.0  1.0  0.0  \n",
       "11  1.0  1.0  0.0  \n",
       "12  1.0  1.0  0.0  \n",
       "13  1.0  0.0  0.0  \n",
       "14  1.0  0.0  0.0  "
      ]
     },
     "execution_count": 25,
     "metadata": {},
     "output_type": "execute_result"
    }
   ],
   "source": [
    "Df[[\"b_\"+str(i) for i in range(numr)]+[\"y_\"+str(i) for i in range(numr)]]"
   ]
  },
  {
   "cell_type": "code",
   "execution_count": 26,
   "metadata": {},
   "outputs": [
    {
     "data": {
      "text/html": [
       "<div>\n",
       "<style scoped>\n",
       "    .dataframe tbody tr th:only-of-type {\n",
       "        vertical-align: middle;\n",
       "    }\n",
       "\n",
       "    .dataframe tbody tr th {\n",
       "        vertical-align: top;\n",
       "    }\n",
       "\n",
       "    .dataframe thead th {\n",
       "        text-align: right;\n",
       "    }\n",
       "</style>\n",
       "<table border=\"1\" class=\"dataframe\">\n",
       "  <thead>\n",
       "    <tr style=\"text-align: right;\">\n",
       "      <th></th>\n",
       "      <th>t_0</th>\n",
       "      <th>t_1</th>\n",
       "    </tr>\n",
       "  </thead>\n",
       "  <tbody>\n",
       "    <tr>\n",
       "      <th>0</th>\n",
       "      <td>0.368750</td>\n",
       "      <td>0.368750</td>\n",
       "    </tr>\n",
       "    <tr>\n",
       "      <th>1</th>\n",
       "      <td>0.636364</td>\n",
       "      <td>0.594929</td>\n",
       "    </tr>\n",
       "    <tr>\n",
       "      <th>2</th>\n",
       "      <td>0.387457</td>\n",
       "      <td>0.387457</td>\n",
       "    </tr>\n",
       "    <tr>\n",
       "      <th>3</th>\n",
       "      <td>0.169466</td>\n",
       "      <td>0.169466</td>\n",
       "    </tr>\n",
       "    <tr>\n",
       "      <th>4</th>\n",
       "      <td>0.104630</td>\n",
       "      <td>0.104630</td>\n",
       "    </tr>\n",
       "    <tr>\n",
       "      <th>5</th>\n",
       "      <td>0.163889</td>\n",
       "      <td>0.163889</td>\n",
       "    </tr>\n",
       "    <tr>\n",
       "      <th>6</th>\n",
       "      <td>0.150000</td>\n",
       "      <td>0.150000</td>\n",
       "    </tr>\n",
       "    <tr>\n",
       "      <th>7</th>\n",
       "      <td>0.067500</td>\n",
       "      <td>0.067500</td>\n",
       "    </tr>\n",
       "    <tr>\n",
       "      <th>8</th>\n",
       "      <td>0.095937</td>\n",
       "      <td>0.095937</td>\n",
       "    </tr>\n",
       "    <tr>\n",
       "      <th>9</th>\n",
       "      <td>0.494444</td>\n",
       "      <td>0.494444</td>\n",
       "    </tr>\n",
       "    <tr>\n",
       "      <th>10</th>\n",
       "      <td>0.550678</td>\n",
       "      <td>0.599322</td>\n",
       "    </tr>\n",
       "    <tr>\n",
       "      <th>11</th>\n",
       "      <td>0.443107</td>\n",
       "      <td>0.398559</td>\n",
       "    </tr>\n",
       "    <tr>\n",
       "      <th>12</th>\n",
       "      <td>0.481250</td>\n",
       "      <td>0.368750</td>\n",
       "    </tr>\n",
       "    <tr>\n",
       "      <th>13</th>\n",
       "      <td>0.365625</td>\n",
       "      <td>0.365625</td>\n",
       "    </tr>\n",
       "    <tr>\n",
       "      <th>14</th>\n",
       "      <td>NaN</td>\n",
       "      <td>NaN</td>\n",
       "    </tr>\n",
       "  </tbody>\n",
       "</table>\n",
       "</div>"
      ],
      "text/plain": [
       "         t_0       t_1\n",
       "0   0.368750  0.368750\n",
       "1   0.636364  0.594929\n",
       "2   0.387457  0.387457\n",
       "3   0.169466  0.169466\n",
       "4   0.104630  0.104630\n",
       "5   0.163889  0.163889\n",
       "6   0.150000  0.150000\n",
       "7   0.067500  0.067500\n",
       "8   0.095937  0.095937\n",
       "9   0.494444  0.494444\n",
       "10  0.550678  0.599322\n",
       "11  0.443107  0.398559\n",
       "12  0.481250  0.368750\n",
       "13  0.365625  0.365625\n",
       "14       NaN       NaN"
      ]
     },
     "execution_count": 26,
     "metadata": {},
     "output_type": "execute_result"
    }
   ],
   "source": [
    "Df[[\"t_\"+str(i) for i in range(2)]]"
   ]
  }
 ],
 "metadata": {
  "kernelspec": {
   "display_name": "cplex",
   "language": "python",
   "name": "python3"
  },
  "language_info": {
   "codemirror_mode": {
    "name": "ipython",
    "version": 3
   },
   "file_extension": ".py",
   "mimetype": "text/x-python",
   "name": "python",
   "nbconvert_exporter": "python",
   "pygments_lexer": "ipython3",
   "version": "3.7.11"
  },
  "orig_nbformat": 4,
  "vscode": {
   "interpreter": {
    "hash": "7394a20464bfa482dd07f61af22adbf437c72944e505bfcd6e11eb225ca9c49b"
   }
  }
 },
 "nbformat": 4,
 "nbformat_minor": 2
}
