{
 "cells": [
  {
   "cell_type": "code",
   "execution_count": 1,
   "metadata": {},
   "outputs": [
    {
     "name": "stdout",
     "output_type": "stream",
     "text": [
      "['f:\\\\workspace\\\\jupyter\\\\论文\\\\graduation thesis\\\\算例分析', 'd:\\\\anaconda\\\\envs\\\\cplex\\\\python37.zip', 'd:\\\\anaconda\\\\envs\\\\cplex\\\\DLLs', 'd:\\\\anaconda\\\\envs\\\\cplex\\\\lib', 'd:\\\\anaconda\\\\envs\\\\cplex', '', 'd:\\\\anaconda\\\\envs\\\\cplex\\\\lib\\\\site-packages', 'd:\\\\anaconda\\\\envs\\\\cplex\\\\lib\\\\site-packages\\\\chardet-3.0.4-py3.7.egg', 'd:\\\\anaconda\\\\envs\\\\cplex\\\\lib\\\\site-packages\\\\docloud-1.0.375-py3.7.egg', 'd:\\\\anaconda\\\\envs\\\\cplex\\\\lib\\\\site-packages\\\\urllib3-1.25.11-py3.7.egg', 'd:\\\\anaconda\\\\envs\\\\cplex\\\\lib\\\\site-packages\\\\fonttools-4.36.0-py3.7.egg', 'd:\\\\anaconda\\\\envs\\\\cplex\\\\lib\\\\site-packages\\\\cvxopt-1.3.0-py3.7-win-amd64.egg', 'd:\\\\anaconda\\\\envs\\\\cplex\\\\lib\\\\site-packages\\\\pytz-2022.2.1-py3.7.egg', 'd:\\\\anaconda\\\\envs\\\\cplex\\\\lib\\\\site-packages\\\\win32', 'd:\\\\anaconda\\\\envs\\\\cplex\\\\lib\\\\site-packages\\\\win32\\\\lib', 'd:\\\\anaconda\\\\envs\\\\cplex\\\\lib\\\\site-packages\\\\Pythonwin', 'd:\\\\anaconda\\\\envs\\\\cplex\\\\lib\\\\site-packages\\\\IPython\\\\extensions', 'C:\\\\Users\\\\0\\\\.ipython', 'f:\\\\workspace\\\\jupyter\\\\论文\\\\graduation thesis\\\\算例分析\\\\../算法封装', 'f:\\\\workspace\\\\jupyter\\\\论文\\\\graduation thesis\\\\算例分析\\\\..']\n"
     ]
    }
   ],
   "source": [
    "import numpy as np\n",
    "import sys\n",
    "import os\n",
    "sys.path.append(os.path.join(os.getcwd(),\"../算法封装\"))\n",
    "sys.path.append(os.path.join(os.getcwd(),\"..\"))\n",
    "print(sys.path)\n",
    "from LMband import LMband\n",
    "import pandas as pd\n",
    "from ga_platoon import max_dt"
   ]
  },
  {
   "cell_type": "code",
   "execution_count": 2,
   "metadata": {},
   "outputs": [],
   "source": [
    "def get_rf(d,p):\n",
    "    tmp=[]\n",
    "    for i,a in enumerate(p):\n",
    "        idx=np.where(a!=0)[0]\n",
    "        a=a&0\n",
    "        if len(idx)>0:\n",
    "            a[:idx[0]]=1\n",
    "        tmp.append((d[i]*a).sum())\n",
    "    return tmp"
   ]
  },
  {
   "cell_type": "code",
   "execution_count": 3,
   "metadata": {},
   "outputs": [],
   "source": [
    "phase = np.loadtxt(\"./data/phase\")\n",
    "cir=phase[0].sum()\n",
    "phase=phase/cir\n",
    "vol = np.loadtxt(\"./data/volume\")\n",
    "qv = np.loadtxt(\"./data/path_vol\")\n",
    "phase_get = np.load(\"./data/phase_get.npy\")\n",
    "d = np.loadtxt(\"./data/distance\")\n",
    "straight_get = np.load(\"./data/straight_get.npy\")\n",
    "ison = np.array([0, 0, 0, 1, 1, 1])\n",
    "px = np.array([[0, 0, 0, 0, 0, 0, 0, 0, 0, 0, 0, 0, 0],\n",
    "               [0, 0, 0, 0, 0, 0, 0, 0, 0, 0, 0, 0, 0]])\n",
    "pxb = np.array([[0, 0, 0, 0, 0, 0, 0, 0, 0, 0, 0, 0, 0],\n",
    "               [0, 0, 0, 0, 0, 0, 0, 0, 0, 0, 0, 0, 0]])\n",
    "qb=[120,120]\n",
    "lower, upper = 4, 12\n",
    "linspace = np.arange(lower, upper, 1)\n",
    "lin_num = len(linspace)\n",
    "\n",
    "# 南北直行方向绿灯时间\n",
    "sg=np.array([(straight_get[i]*phase).sum(axis=1) for i in range(len(straight_get))])\n",
    "rho = vol[0] / vol[1]\n",
    "num = len(vol[0])\n",
    "numr = len(qv)\n",
    "nump = len(phase_get)\n",
    "M = 1e6\n",
    "nx = 0.00000001\n",
    "be = 8\n",
    "speedScope = np.array([lower, upper])\n",
    "speedVar = np.array([-2, 2])\n",
    "\n",
    "g=np.array([(phase_get[i]*phase).sum(axis=1) for i in range(numr) ])\n",
    "r=1-g\n",
    "rf=np.array([get_rf(phase,phase_get[i]) for i in range(numr)])\n",
    "\n",
    "ex=[1,0,1,0,1,0,1,1,1,1,1,0]\n",
    "dwt=15\n",
    "qb_x=np.ones_like(sg)*20\n",
    "cap=np.ones_like(sg,dtype=int)*3\n",
    "\n",
    "spd_on=pd.read_csv(os.path.join(os.getcwd(),\"..\",\"速度爬取\",\"上行速度数据.csv\"),index_col=0)\n",
    "spd_in=pd.read_csv(os.path.join(os.getcwd(),\"..\",\"速度爬取\",\"下行速度数据.csv\"),index_col=0)"
   ]
  },
  {
   "cell_type": "code",
   "execution_count": 4,
   "metadata": {},
   "outputs": [
    {
     "name": "stdout",
     "output_type": "stream",
     "text": [
      "Version identifier: 12.10.0.0 | 2019-11-26 | 843d4de2ae\n",
      "CPXPARAM_Read_DataCheck                          1\n",
      "CPXPARAM_RandomSeed                              201903125\n",
      "\n",
      "Multi-objective solve log . . .\n",
      "\n",
      "Index  Priority  Blend          Objective      Nodes  Time (sec.)  DetTime (ticks)\n",
      "\n",
      "Performing restart 1\n",
      "    1         0      3   1.7800948121e+04      16124         1.63          1191.37\n",
      "status  = multi-objective optimal\n",
      "time    = 1.641 s.\n",
      "problem = MILP\n",
      "gap     = 2.62889e+73%\n",
      "\n",
      "object value: 3804\n"
     ]
    }
   ],
   "source": [
    "lmb=LMband(phase, [80,180], vol, qv, phase_get, d, straight_get, ison, px, pxb, qb,qb_x,cap, lower, upper, \n",
    "           linspace, be, speedVar[0], speedVar[1],ex, dwt,lower,upper,speedVar[0], speedVar[1],spd_on,spd_in)\n",
    "lmb._M1_solve()"
   ]
  },
  {
   "cell_type": "code",
   "execution_count": 5,
   "metadata": {},
   "outputs": [
    {
     "name": "stdout",
     "output_type": "stream",
     "text": [
      "{(0, 0): 0, (0, 1): 0, (0, 2): 0, (0, 3): 0, (0, 4): 0, (0, 5): 0, (0, 6): 0, (0, 7): 0, (0, 8): 0, (0, 9): 0, (0, 10): 0, (0, 11): 0, (1, 0): 0, (1, 1): 0, (1, 2): 0.14444444444444426, (1, 3): 0, (1, 4): 0, (1, 5): 0, (1, 6): 0, (1, 7): 0, (1, 8): 0, (1, 9): 0, (1, 10): 0, (1, 11): 0}\n",
      "[[array([0.0693, 0.0912, 0.0951, 0.0786, 0.0515, 0.0267, 0.011 , 0.0036]), array([0.0338, 0.0645, 0.0938, 0.1038, 0.0876, 0.0563, 0.0275, 0.0103]), array([0.0391, 0.052 , 0.062 , 0.0662, 0.0633, 0.0542, 0.0415, 0.0285]), array([0.000e+00, 1.000e-04, 2.000e-03, 2.310e-02, 1.059e-01, 1.910e-01,\n",
      "       1.356e-01, 3.790e-02])], [array([9.570e-02, 1.317e-01, 1.162e-01, 6.560e-02, 2.370e-02, 5.500e-03,\n",
      "       8.000e-04, 1.000e-04]), array([0.0677, 0.1737, 0.1719, 0.0657, 0.0097, 0.0005, 0.    , 0.    ]), array([0.0237, 0.0275, 0.0309, 0.0336, 0.0353, 0.036 , 0.0355, 0.0339]), array([0.0306, 0.0784, 0.1268, 0.1291, 0.0828, 0.0335, 0.0085, 0.0014])]]\n",
      "conflict(s): 0\n",
      "Version identifier: 12.10.0.0 | 2019-11-26 | 843d4de2ae\n",
      "CPXPARAM_Read_DataCheck                          1\n",
      "CPXPARAM_RandomSeed                              201903125\n",
      "\n",
      "Multi-objective solve log . . .\n",
      "\n",
      "Index  Priority  Blend          Objective      Nodes  Time (sec.)  DetTime (ticks)\n",
      "\n",
      "Performing restart 1\n",
      "    1         2      2   1.8793548028e+04       8863         2.28          1585.09\n",
      "\n",
      "Performing restart 1\n",
      "\n",
      "Performing restart 2\n"
     ]
    }
   ],
   "source": [
    "lmb._M2_solve()"
   ]
  },
  {
   "cell_type": "code",
   "execution_count": null,
   "metadata": {},
   "outputs": [],
   "source": [
    "lmb.get_dataframe()"
   ]
  },
  {
   "cell_type": "code",
   "execution_count": null,
   "metadata": {},
   "outputs": [],
   "source": [
    "colors=[\n",
    "            {\"color\":\"gray\" , \"hatch\": None, \"fill\": True},\n",
    "            {\"color\":\"gray\", \"hatch\":\"||||\" , \"fill\": True},\n",
    "            {\"color\": \"gray\", \"hatch\":\"////\" , \"fill\": True},\n",
    "            {\"color\":\"white\", \"hatch\": \"****\", \"fill\": False},\n",
    "            {\"color\": \"white\", \"hatch\": None, \"fill\": False},\n",
    "            {\"color\": \"white\", \"hatch\": \"////\", \"fill\": False},\n",
    "            {\"color\": \"white\", \"hatch\": \"||||\", \"fill\": False},\n",
    "            {\"color\": \"white\", \"hatch\": \"\\\\\\\\\\\\\\\\\", \"fill\": False},\n",
    "            {\"color\": \"white\", \"hatch\": \"xxxx\", \"fill\": False},\n",
    "            {\"color\": \"white\", \"hatch\": \"....\", \"fill\": False},\n",
    "        ]\n",
    "linestyles=[\n",
    "    {\"linestyle\":\"-\" },\n",
    "    {\"linestyle\":(5,(10,3))},\n",
    "    {\"linestyle\":(0, (5, 3)) },\n",
    "    {\"linestyle\":\":\" },\n",
    "    {\"linestyle\":(0, (3, 1, 1, 1)) },\n",
    "    {\"linestyle\": (0, (5, 10)) },\n",
    "]\n",
    "legends=[\"1->15\", \"1->6\", \"8->15\", \"15->2\", \"14->9\", \"7->1\"]\n",
    "lmb.draw_car_bound(\"./时距图\",colors,legends,2,linestyles)"
   ]
  },
  {
   "cell_type": "code",
   "execution_count": null,
   "metadata": {},
   "outputs": [],
   "source": [
    "colors=[\n",
    "            {\"color\":\"gray\" , \"hatch\": None, \"fill\": True},\n",
    "            {\"color\":\"gray\", \"hatch\":\"||||\" , \"fill\": True},\n",
    "            {\"color\": \"gray\", \"hatch\":\"////\" , \"fill\": True},\n",
    "            {\"color\":\"white\", \"hatch\": None, \"fill\": False},\n",
    "            {\"color\": \"white\", \"hatch\": \"****\", \"fill\": False},\n",
    "            {\"color\": \"white\", \"hatch\": \"////\", \"fill\": False},\n",
    "            {\"color\": \"white\", \"hatch\": \"||||\", \"fill\": False},\n",
    "            {\"color\": \"white\", \"hatch\": \"\\\\\\\\\\\\\\\\\", \"fill\": False},\n",
    "            {\"color\": \"white\", \"hatch\": \"xxxx\", \"fill\": False},\n",
    "            {\"color\": \"white\", \"hatch\": \"....\", \"fill\": False},\n",
    "        ]\n",
    "lmb.draw_bus_bound(\"./公交时距图\",colors)"
   ]
  },
  {
   "cell_type": "code",
   "execution_count": null,
   "metadata": {},
   "outputs": [],
   "source": [
    "a=lmb.get_draw_dataframe()\n"
   ]
  },
  {
   "cell_type": "code",
   "execution_count": null,
   "metadata": {},
   "outputs": [],
   "source": [
    "(a[[\"bb\"+str(i+1) for i in range(2)]+[\"dw1\",\"dw2\"]].round(0)).mean(axis=0)"
   ]
  },
  {
   "cell_type": "code",
   "execution_count": null,
   "metadata": {},
   "outputs": [],
   "source": [
    "a[[\"b\"+str(i+1) for i in range(6)]].round(0)"
   ]
  },
  {
   "cell_type": "code",
   "execution_count": null,
   "metadata": {},
   "outputs": [],
   "source": [
    "lmb.d"
   ]
  },
  {
   "cell_type": "code",
   "execution_count": null,
   "metadata": {},
   "outputs": [],
   "source": [
    "a.p"
   ]
  },
  {
   "cell_type": "code",
   "execution_count": null,
   "metadata": {},
   "outputs": [],
   "source": [
    "import math\n",
    "import numpy as np\n",
    "import matplotlib.pyplot as plt\n",
    "plt.rcParams['font.family']=\"SimSun\"\n",
    "fig = plt.figure(figsize=(4,3), dpi=300)\n",
    "u = 9   # 均值μ\n",
    "sig = math.sqrt(2)  # 标准差δ\n",
    "x = np.linspace(u - 3*sig, u + 3*sig, 50)   # 定义域\n",
    "y = np.exp(-(x - u) ** 2 / (2 * sig ** 2)) / (math.sqrt(2*math.pi)*sig) # 定义曲线函数\n",
    "plt.plot(x, y, \"black\", linewidth=2)    # 加载曲线\n",
    "l1=plt.fill_between(x, y, 0,where=((x>=u-2*sig)&(x<=u-sig/2)), alpha=0.2)\n",
    "l2=plt.fill_between(x, y, 0,where=((x<=u+2*sig)&(x>=u+sig/2)), alpha=0.2)\n",
    "# plt.grid(True)  # 网格线\n",
    "plt.legend([l1,l2],[\"低速带宽\",\"高速带宽\"])\n",
    "plt.show()  # 显示\n",
    "fig.savefig(\"./正态分布\")"
   ]
  },
  {
   "cell_type": "code",
   "execution_count": null,
   "metadata": {},
   "outputs": [],
   "source": []
  }
 ],
 "metadata": {
  "kernelspec": {
   "display_name": "cplex",
   "language": "python",
   "name": "cplex"
  },
  "language_info": {
   "codemirror_mode": {
    "name": "ipython",
    "version": 3
   },
   "file_extension": ".py",
   "mimetype": "text/x-python",
   "name": "python",
   "nbconvert_exporter": "python",
   "pygments_lexer": "ipython3",
   "version": "3.7.11"
  },
  "orig_nbformat": 4
 },
 "nbformat": 4,
 "nbformat_minor": 2
}
